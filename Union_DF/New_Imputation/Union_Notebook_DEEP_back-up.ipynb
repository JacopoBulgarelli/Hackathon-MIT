{
 "cells": [
  {
   "attachments": {},
   "cell_type": "markdown",
   "metadata": {},
   "source": [
    "# Here there is Only the Cleaning of the Model"
   ]
  },
  {
   "cell_type": "code",
   "execution_count": 37,
   "metadata": {},
   "outputs": [],
   "source": [
    "# Importing the basic libraries we will require for the project\n",
    "\n",
    "# Libraries to help with reading and manipulating data\n",
    "import pandas as pd\n",
    "import numpy as np\n",
    "\n",
    "# Libaries to help with data visualization\n",
    "import matplotlib.pyplot as plt\n",
    "import seaborn as sns\n",
    "sns.set()\n",
    "\n",
    "# Importing the Machine Learning models we require from Scikit-Learn\n",
    "from sklearn.linear_model import LogisticRegression\n",
    "from sklearn.svm import SVC\n",
    "from sklearn.tree import DecisionTreeClassifier\n",
    "from sklearn import tree\n",
    "from sklearn.ensemble import RandomForestClassifier\n",
    "from sklearn.ensemble import GradientBoostingClassifier\n",
    "\n",
    "\n",
    "# Importing the other functions we may require from Scikit-Learn\n",
    "from sklearn.model_selection import train_test_split, GridSearchCV\n",
    "from sklearn.preprocessing import MinMaxScaler, LabelEncoder, OneHotEncoder\n",
    "from sklearn.preprocessing import StandardScaler\n",
    "\n",
    "# To get diferent metric scores\n",
    "from sklearn.metrics import confusion_matrix,classification_report,roc_auc_score,plot_confusion_matrix,precision_recall_curve,roc_curve,make_scorer\n",
    "\n",
    "# Code to ignore warnings from function usage\n",
    "import warnings;\n",
    "import numpy as np\n",
    "warnings.filterwarnings('ignore')\n",
    "\n",
    "from sklearn.impute import SimpleImputer\n",
    "\n",
    "from sklearn.compose import ColumnTransformer\n",
    "from sklearn.pipeline import Pipeline\n",
    "\n",
    "from sklearn.impute import KNNImputer\n",
    "\n",
    "\n",
    "from sklearn.experimental import enable_iterative_imputer\n",
    "from sklearn.impute import IterativeImputer\n",
    "\n",
    "\n",
    "\n",
    "import tensorflow as tf\n",
    "from tensorflow.keras.models import Sequential\n",
    "from tensorflow.keras.layers import Dense, Dropout, Activation"
   ]
  },
  {
   "cell_type": "code",
   "execution_count": null,
   "metadata": {},
   "outputs": [],
   "source": []
  },
  {
   "cell_type": "code",
   "execution_count": 38,
   "metadata": {},
   "outputs": [
    {
     "data": {
      "text/plain": [
       "(35602, 24)"
      ]
     },
     "execution_count": 38,
     "metadata": {},
     "output_type": "execute_result"
    }
   ],
   "source": [
    "df1_test = pd.read_csv('Surveydata_test_cleaned_v2.csv')\n",
    "df2_test = pd.read_csv('Traveldata_test_cleaned_v2.csv')\n",
    "\n",
    "df_union_test = pd.merge(df1_test, df2_test, on = 'ID')\n",
    "del df_union_test['Unnamed: 0_x']\n",
    "del df_union_test['Unnamed: 0_y']\n",
    "\n",
    "df_union_test.shape\n",
    "\n"
   ]
  },
  {
   "cell_type": "code",
   "execution_count": 39,
   "metadata": {},
   "outputs": [
    {
     "data": {
      "text/plain": [
       "(94379, 25)"
      ]
     },
     "execution_count": 39,
     "metadata": {},
     "output_type": "execute_result"
    }
   ],
   "source": [
    "df1_train = pd.read_csv('Surveydata_train_cleaned_v2.csv')\n",
    "df2_train = pd.read_csv('Traveldata_train_cleaned_v2.csv')\n",
    "\n",
    "df_union_train = pd.merge(df1_train, df2_train, on = 'ID')\n",
    "del df_union_train['Unnamed: 0_x']\n",
    "del df_union_train['Unnamed: 0_y']\n",
    "\n",
    "df_union_train.shape"
   ]
  },
  {
   "cell_type": "code",
   "execution_count": 40,
   "metadata": {},
   "outputs": [],
   "source": [
    "def accuracy(y_train_test, y_pred_train_test):\n",
    "    cm = confusion_matrix(y_train_test, y_pred_train_test)\n",
    "    tot = sum(sum(cm))\n",
    "    zero = cm[0][0]\n",
    "    one = cm[1][1]\n",
    "\n",
    "    accuracy = (one + zero)/tot\n",
    "    return accuracy"
   ]
  },
  {
   "cell_type": "code",
   "execution_count": 41,
   "metadata": {},
   "outputs": [
    {
     "data": {
      "text/plain": [
       "(94379, 23)"
      ]
     },
     "execution_count": 41,
     "metadata": {},
     "output_type": "execute_result"
    }
   ],
   "source": [
    "X_train = df_union_train.drop(['ID',\"Overall_Experience\"], axis=1) # keep it as a Matrix\n",
    "y_train = df_union_train[\"Overall_Experience\"]  # keep it as an array\n",
    "\n",
    "X_train.shape"
   ]
  },
  {
   "cell_type": "code",
   "execution_count": 42,
   "metadata": {},
   "outputs": [
    {
     "data": {
      "text/plain": [
       "(35602, 23)"
      ]
     },
     "execution_count": 42,
     "metadata": {},
     "output_type": "execute_result"
    }
   ],
   "source": [
    "X_test = df_union_test.drop(['ID'], axis=1) # keep it as a Matrix\n",
    "\n",
    "X_test.shape"
   ]
  },
  {
   "attachments": {},
   "cell_type": "markdown",
   "metadata": {},
   "source": [
    "# deep learning"
   ]
  },
  {
   "cell_type": "code",
   "execution_count": 135,
   "metadata": {},
   "outputs": [],
   "source": [
    "# Fixing the seed for random number generators\n",
    "np.random.seed(5)\n",
    "\n",
    "import random\n",
    "random.seed(5)\n",
    "\n",
    "tf.random.set_seed(5)"
   ]
  },
  {
   "cell_type": "code",
   "execution_count": 146,
   "metadata": {},
   "outputs": [],
   "source": [
    "# We will be adding the layers sequentially\n",
    "model_1 = Sequential()\n",
    "\n",
    "# First hidden layer with 128 neurons and relu activation function, the input shape tuple denotes number of independent variables\n",
    "model_1.add(Dense(128, activation='relu', input_shape=(23,)))\n",
    "\n",
    "# We will be switching 20% of neurons off randomly at each iteration to avoid overfitting\n",
    "model_1.add(Dropout(0.3))\n",
    "\n",
    "# Third hidden layer with 64 neurons and relu activation function\n",
    "model_1.add(Dense(64, activation='tanh'))\n",
    "\n",
    "# We will be switching 20% of neurons off randomly at each iteration to avoid overfitting\n",
    "model_1.add(Dropout(0.2))\n",
    "\n",
    "# Third hidden layer with 64 neurons and relu activation function\n",
    "model_1.add(Dense(32, activation='relu'))\n",
    "\n",
    "# We will be switching 10% of neurons off randomly at each iteration to avoid overfitting\n",
    "model_1.add(Dropout(0.1))\n",
    "\n",
    "# Output layer with only one neuron and sigmoid as activation function will give the probability of students getting admitted into UCLA  \n",
    "model_1.add(Dense(1, activation='sigmoid'))"
   ]
  },
  {
   "attachments": {},
   "cell_type": "markdown",
   "metadata": {},
   "source": [
    "mnist = tf.keras.datasets.mnist\n",
    "\n",
    "(x_train, y_train), (x_test, y_test) = mnist.load_data()\n",
    "x_train, x_test = x_train / 255.0, x_test / 255.0\n",
    "\n",
    "model = tf.keras.models.Sequential([\n",
    "  tf.keras.layers.Flatten(input_shape=(28, 28)),\n",
    "  tf.keras.layers.Dense(128, activation='relu'),\n",
    "  tf.keras.layers.Dropout(0.2),\n",
    "  tf.keras.layers.Dense(10, activation='softmax') 'tanh'\n",
    "])\n",
    "\n",
    "model.compile(optimizer='adam',\n",
    "              loss='sparse_categorical_crossentropy',\n",
    "              metrics=['accuracy'])\n",
    "\n",
    "model.fit(x_train, y_train, callbacks=[LearningRateReducerCb()], epochs=5)\n",
    "\n",
    "model.evaluate(x_test, y_test)"
   ]
  },
  {
   "cell_type": "code",
   "execution_count": 147,
   "metadata": {},
   "outputs": [
    {
     "name": "stdout",
     "output_type": "stream",
     "text": [
      "Model: \"sequential_12\"\n",
      "_________________________________________________________________\n",
      " Layer (type)                Output Shape              Param #   \n",
      "=================================================================\n",
      " dense_45 (Dense)            (None, 128)               3072      \n",
      "                                                                 \n",
      " dropout_32 (Dropout)        (None, 128)               0         \n",
      "                                                                 \n",
      " dense_46 (Dense)            (None, 64)                8256      \n",
      "                                                                 \n",
      " dropout_33 (Dropout)        (None, 64)                0         \n",
      "                                                                 \n",
      " dense_47 (Dense)            (None, 32)                2080      \n",
      "                                                                 \n",
      " dropout_34 (Dropout)        (None, 32)                0         \n",
      "                                                                 \n",
      " dense_48 (Dense)            (None, 1)                 33        \n",
      "                                                                 \n",
      "=================================================================\n",
      "Total params: 13,441\n",
      "Trainable params: 13,441\n",
      "Non-trainable params: 0\n",
      "_________________________________________________________________\n"
     ]
    }
   ],
   "source": [
    "#model_1.compile(loss = 'binary_crossentropy', optimizer='adamax', metrics=['accuracy'])\n",
    "model_1.compile(loss = 'binary_crossentropy', optimizer=tf.keras.optimizers.Adam(learning_rate=0.01), metrics=['accuracy'])\n",
    "\n",
    "\n",
    "model_1.summary()"
   ]
  },
  {
   "cell_type": "code",
   "execution_count": null,
   "metadata": {},
   "outputs": [],
   "source": []
  },
  {
   "attachments": {},
   "cell_type": "markdown",
   "metadata": {},
   "source": [
    " SPLIT"
   ]
  },
  {
   "cell_type": "code",
   "execution_count": 140,
   "metadata": {},
   "outputs": [],
   "source": [
    "X_train_train ,X_train_test , y_train_train, y_train_test = train_test_split(X_train , y_train, test_size=0.3, random_state=5, stratify= y_train)"
   ]
  },
  {
   "cell_type": "code",
   "execution_count": 141,
   "metadata": {},
   "outputs": [],
   "source": [
    "numeric_features_min_max = ['Seat_Comfort', 'Seat_Class', 'Arrival_Time_Convenient', 'Catering','Platform_Location', 'Onboard_Wifi_Service', \n",
    "                            'Onboard_Entertainment','Online_Support', 'Ease_of_Online_Booking', 'Onboard_Service','Legroom', 'Baggage_Handling', \n",
    "                            'CheckIn_Service', 'Cleanliness','Online_Boarding', 'Gender', 'Customer_Type', 'Age', 'Type_Travel','Travel_Class']\n",
    "\n",
    "numeric_features_standard = [   'Travel_Distance', 'Departure_Delay_in_Mins', 'Arrival_Delay_in_Mins']\n",
    "\n",
    "\n",
    "numeric_transformer = Pipeline(\n",
    "    steps = [ ('scaler1', MinMaxScaler() ), ('scaler2', StandardScaler() ), ('imputer', KNNImputer(n_neighbors=4) ) ] \n",
    "    # ('imputer', SimpleImputer(strategy='median') ), ADD LATER ON, , ('imputer',  IterativeImputer(random_state=0, initial_strategy='median') ('imputer', KNNImputer(n_neighbors=4) )\n",
    ")\n",
    "\n",
    "# Here the pre-processor step\n",
    "preprocessor = ColumnTransformer(\n",
    "    transformers=[\n",
    "        (\"numeric1\", numeric_transformer, numeric_features_min_max ),\n",
    "        (\"numeric2\", numeric_transformer, numeric_features_standard )\n",
    "    ]\n",
    ")\n",
    "\n",
    "# here the Pipeline\n",
    "pipe_rf = Pipeline(\n",
    "    steps = [('preprocessor', preprocessor), ('regressor', RandomForestClassifier(n_estimators = 100, n_jobs=-1) ) ]#n_estimators =1000 5min try 2k\n",
    ")\n",
    "\n",
    "\n",
    "X_train_train_normalized = preprocessor.fit_transform(X_train_train)\n",
    "\n",
    "#y_pred_train_train = pipe_rf.predict(X_train_train)\n",
    "\n",
    "#metrics_score(y_train_train, y_pred_train_train)\n",
    "\n",
    "X_train_test_normalized = preprocessor.transform(X_train_test)"
   ]
  },
  {
   "cell_type": "code",
   "execution_count": null,
   "metadata": {},
   "outputs": [],
   "source": []
  },
  {
   "cell_type": "code",
   "execution_count": 143,
   "metadata": {},
   "outputs": [
    {
     "name": "stdout",
     "output_type": "stream",
     "text": [
      "Epoch 1/50\n",
      "1859/1859 - 5s - loss: 0.2497 - accuracy: 0.8951 - val_loss: 0.1940 - val_accuracy: 0.9171 - 5s/epoch - 3ms/step\n",
      "Epoch 2/50\n",
      "1859/1859 - 5s - loss: 0.1880 - accuracy: 0.9212 - val_loss: 0.1696 - val_accuracy: 0.9295 - 5s/epoch - 3ms/step\n",
      "Epoch 3/50\n",
      "1859/1859 - 5s - loss: 0.1664 - accuracy: 0.9294 - val_loss: 0.1519 - val_accuracy: 0.9352 - 5s/epoch - 2ms/step\n",
      "Epoch 4/50\n",
      "1859/1859 - 5s - loss: 0.1542 - accuracy: 0.9344 - val_loss: 0.1368 - val_accuracy: 0.9398 - 5s/epoch - 3ms/step\n",
      "Epoch 5/50\n",
      "1859/1859 - 4s - loss: 0.1423 - accuracy: 0.9391 - val_loss: 0.1296 - val_accuracy: 0.9414 - 4s/epoch - 2ms/step\n",
      "Epoch 6/50\n",
      "1859/1859 - 4s - loss: 0.1343 - accuracy: 0.9437 - val_loss: 0.1270 - val_accuracy: 0.9449 - 4s/epoch - 2ms/step\n",
      "Epoch 7/50\n",
      "1859/1859 - 4s - loss: 0.1294 - accuracy: 0.9445 - val_loss: 0.1209 - val_accuracy: 0.9454 - 4s/epoch - 2ms/step\n",
      "Epoch 8/50\n",
      "1859/1859 - 4s - loss: 0.1261 - accuracy: 0.9455 - val_loss: 0.1218 - val_accuracy: 0.9440 - 4s/epoch - 2ms/step\n",
      "Epoch 9/50\n",
      "1859/1859 - 4s - loss: 0.1228 - accuracy: 0.9470 - val_loss: 0.1164 - val_accuracy: 0.9494 - 4s/epoch - 2ms/step\n",
      "Epoch 10/50\n",
      "1859/1859 - 5s - loss: 0.1184 - accuracy: 0.9482 - val_loss: 0.1139 - val_accuracy: 0.9484 - 5s/epoch - 2ms/step\n",
      "Epoch 11/50\n",
      "1859/1859 - 4s - loss: 0.1168 - accuracy: 0.9494 - val_loss: 0.1123 - val_accuracy: 0.9511 - 4s/epoch - 2ms/step\n",
      "Epoch 12/50\n",
      "1859/1859 - 4s - loss: 0.1143 - accuracy: 0.9498 - val_loss: 0.1117 - val_accuracy: 0.9498 - 4s/epoch - 2ms/step\n",
      "Epoch 13/50\n",
      "1859/1859 - 4s - loss: 0.1133 - accuracy: 0.9504 - val_loss: 0.1092 - val_accuracy: 0.9529 - 4s/epoch - 2ms/step\n",
      "Epoch 14/50\n",
      "1859/1859 - 4s - loss: 0.1113 - accuracy: 0.9514 - val_loss: 0.1088 - val_accuracy: 0.9525 - 4s/epoch - 2ms/step\n",
      "Epoch 15/50\n",
      "1859/1859 - 4s - loss: 0.1100 - accuracy: 0.9519 - val_loss: 0.1082 - val_accuracy: 0.9499 - 4s/epoch - 2ms/step\n",
      "Epoch 16/50\n",
      "1859/1859 - 4s - loss: 0.1094 - accuracy: 0.9515 - val_loss: 0.1052 - val_accuracy: 0.9523 - 4s/epoch - 2ms/step\n",
      "Epoch 17/50\n",
      "1859/1859 - 4s - loss: 0.1082 - accuracy: 0.9519 - val_loss: 0.1068 - val_accuracy: 0.9510 - 4s/epoch - 2ms/step\n",
      "Epoch 18/50\n",
      "1859/1859 - 4s - loss: 0.1067 - accuracy: 0.9527 - val_loss: 0.1083 - val_accuracy: 0.9525 - 4s/epoch - 2ms/step\n",
      "Epoch 19/50\n",
      "1859/1859 - 4s - loss: 0.1063 - accuracy: 0.9530 - val_loss: 0.1103 - val_accuracy: 0.9504 - 4s/epoch - 2ms/step\n",
      "Epoch 20/50\n",
      "1859/1859 - 4s - loss: 0.1040 - accuracy: 0.9539 - val_loss: 0.1059 - val_accuracy: 0.9505 - 4s/epoch - 2ms/step\n",
      "Epoch 21/50\n",
      "1859/1859 - 4s - loss: 0.1043 - accuracy: 0.9537 - val_loss: 0.1069 - val_accuracy: 0.9517 - 4s/epoch - 2ms/step\n",
      "Epoch 22/50\n",
      "1859/1859 - 4s - loss: 0.1043 - accuracy: 0.9544 - val_loss: 0.1058 - val_accuracy: 0.9510 - 4s/epoch - 2ms/step\n",
      "Epoch 23/50\n",
      "1859/1859 - 4s - loss: 0.1029 - accuracy: 0.9549 - val_loss: 0.1053 - val_accuracy: 0.9529 - 4s/epoch - 2ms/step\n",
      "Epoch 24/50\n",
      "1859/1859 - 4s - loss: 0.1031 - accuracy: 0.9554 - val_loss: 0.1054 - val_accuracy: 0.9547 - 4s/epoch - 2ms/step\n",
      "Epoch 25/50\n",
      "1859/1859 - 4s - loss: 0.1015 - accuracy: 0.9549 - val_loss: 0.1030 - val_accuracy: 0.9540 - 4s/epoch - 2ms/step\n",
      "Epoch 26/50\n",
      "1859/1859 - 4s - loss: 0.1003 - accuracy: 0.9559 - val_loss: 0.1051 - val_accuracy: 0.9543 - 4s/epoch - 2ms/step\n",
      "Epoch 27/50\n",
      "1859/1859 - 4s - loss: 0.0998 - accuracy: 0.9556 - val_loss: 0.1056 - val_accuracy: 0.9511 - 4s/epoch - 2ms/step\n",
      "Epoch 28/50\n",
      "1859/1859 - 4s - loss: 0.1010 - accuracy: 0.9554 - val_loss: 0.1026 - val_accuracy: 0.9541 - 4s/epoch - 2ms/step\n",
      "Epoch 29/50\n",
      "1859/1859 - 4s - loss: 0.0992 - accuracy: 0.9568 - val_loss: 0.1015 - val_accuracy: 0.9547 - 4s/epoch - 2ms/step\n",
      "Epoch 30/50\n",
      "1859/1859 - 4s - loss: 0.0982 - accuracy: 0.9565 - val_loss: 0.1033 - val_accuracy: 0.9544 - 4s/epoch - 2ms/step\n",
      "Epoch 31/50\n",
      "1859/1859 - 4s - loss: 0.0993 - accuracy: 0.9568 - val_loss: 0.1019 - val_accuracy: 0.9549 - 4s/epoch - 2ms/step\n",
      "Epoch 32/50\n",
      "1859/1859 - 4s - loss: 0.0976 - accuracy: 0.9571 - val_loss: 0.1023 - val_accuracy: 0.9538 - 4s/epoch - 2ms/step\n",
      "Epoch 33/50\n",
      "1859/1859 - 4s - loss: 0.0969 - accuracy: 0.9571 - val_loss: 0.1027 - val_accuracy: 0.9528 - 4s/epoch - 2ms/step\n",
      "Epoch 34/50\n",
      "1859/1859 - 4s - loss: 0.0971 - accuracy: 0.9570 - val_loss: 0.1009 - val_accuracy: 0.9552 - 4s/epoch - 2ms/step\n",
      "Epoch 35/50\n",
      "1859/1859 - 4s - loss: 0.0957 - accuracy: 0.9574 - val_loss: 0.1001 - val_accuracy: 0.9543 - 4s/epoch - 2ms/step\n",
      "Epoch 36/50\n",
      "1859/1859 - 4s - loss: 0.0955 - accuracy: 0.9575 - val_loss: 0.1016 - val_accuracy: 0.9547 - 4s/epoch - 2ms/step\n",
      "Epoch 37/50\n",
      "1859/1859 - 4s - loss: 0.0946 - accuracy: 0.9580 - val_loss: 0.1022 - val_accuracy: 0.9511 - 4s/epoch - 2ms/step\n",
      "Epoch 38/50\n",
      "1859/1859 - 4s - loss: 0.0956 - accuracy: 0.9582 - val_loss: 0.1007 - val_accuracy: 0.9537 - 4s/epoch - 2ms/step\n",
      "Epoch 39/50\n",
      "1859/1859 - 4s - loss: 0.0950 - accuracy: 0.9581 - val_loss: 0.1046 - val_accuracy: 0.9541 - 4s/epoch - 2ms/step\n",
      "Epoch 40/50\n",
      "1859/1859 - 4s - loss: 0.0940 - accuracy: 0.9583 - val_loss: 0.1041 - val_accuracy: 0.9522 - 4s/epoch - 2ms/step\n",
      "Epoch 41/50\n",
      "1859/1859 - 4s - loss: 0.0947 - accuracy: 0.9578 - val_loss: 0.1037 - val_accuracy: 0.9520 - 4s/epoch - 2ms/step\n",
      "Epoch 42/50\n",
      "1859/1859 - 4s - loss: 0.0933 - accuracy: 0.9583 - val_loss: 0.1021 - val_accuracy: 0.9532 - 4s/epoch - 2ms/step\n",
      "Epoch 43/50\n",
      "1859/1859 - 4s - loss: 0.0941 - accuracy: 0.9582 - val_loss: 0.1011 - val_accuracy: 0.9540 - 4s/epoch - 2ms/step\n",
      "Epoch 44/50\n",
      "1859/1859 - 4s - loss: 0.0911 - accuracy: 0.9595 - val_loss: 0.1044 - val_accuracy: 0.9531 - 4s/epoch - 2ms/step\n",
      "Epoch 45/50\n",
      "1859/1859 - 4s - loss: 0.0925 - accuracy: 0.9590 - val_loss: 0.1003 - val_accuracy: 0.9532 - 4s/epoch - 2ms/step\n",
      "Epoch 46/50\n",
      "1859/1859 - 4s - loss: 0.0920 - accuracy: 0.9596 - val_loss: 0.1033 - val_accuracy: 0.9529 - 4s/epoch - 2ms/step\n",
      "Epoch 47/50\n",
      "1859/1859 - 4s - loss: 0.0913 - accuracy: 0.9596 - val_loss: 0.1023 - val_accuracy: 0.9547 - 4s/epoch - 2ms/step\n",
      "Epoch 48/50\n",
      "1859/1859 - 4s - loss: 0.0934 - accuracy: 0.9588 - val_loss: 0.0988 - val_accuracy: 0.9546 - 4s/epoch - 2ms/step\n",
      "Epoch 49/50\n",
      "1859/1859 - 4s - loss: 0.0920 - accuracy: 0.9599 - val_loss: 0.1033 - val_accuracy: 0.9523 - 4s/epoch - 2ms/step\n",
      "Epoch 50/50\n",
      "1859/1859 - 4s - loss: 0.0920 - accuracy: 0.9600 - val_loss: 0.1041 - val_accuracy: 0.9538 - 4s/epoch - 2ms/step\n"
     ]
    }
   ],
   "source": [
    "history_1 = model_1.fit(X_train_train_normalized, \n",
    "                    y_train_train,\n",
    "                    validation_split=0.2, \n",
    "                    epochs=50, #150 \n",
    "                    verbose=2)"
   ]
  },
  {
   "cell_type": "code",
   "execution_count": 144,
   "metadata": {},
   "outputs": [
    {
     "data": {
      "image/png": "[encoded data removed]",
      "text/plain": [
       "<Figure size 640x480 with 1 Axes>"
      ]
     },
     "metadata": {},
     "output_type": "display_data"
    }
   ],
   "source": [
    "plt.plot(history_1.history['accuracy'])\n",
    "plt.plot(history_1.history['val_accuracy'])\n",
    "plt.title('Accuracy vs Epochs')\n",
    "plt.ylabel('Accuracy')\n",
    "plt.xlabel('Epoch')\n",
    "plt.legend(['Train', 'Validation'], loc='lower right')\n",
    "plt.show()"
   ]
  },
  {
   "cell_type": "code",
   "execution_count": null,
   "metadata": {},
   "outputs": [],
   "source": []
  },
  {
   "cell_type": "code",
   "execution_count": 104,
   "metadata": {},
   "outputs": [
    {
     "name": "stdout",
     "output_type": "stream",
     "text": [
      "885/885 [==============================] - 2s 2ms/step - loss: 0.1120 - accuracy: 0.9531\n",
      "885/885 [==============================] - 2s 2ms/step\n"
     ]
    }
   ],
   "source": [
    "model_1.evaluate(X_train_test_normalized, y_train_test, verbose = 1)\n",
    "test_pred = np.round(model_1.predict(X_train_test_normalized))\n"
   ]
  },
  {
   "cell_type": "code",
   "execution_count": 105,
   "metadata": {},
   "outputs": [],
   "source": [
    "y_train_test \n",
    "right = 0\n",
    "tot = 0\n",
    "for i in range(len(y_train_test)):\n",
    "    tot +=1\n",
    "    if y_train_test.iloc[i] == int(test_pred.flatten()[i]):\n",
    "        right +=1\n",
    "\n",
    "        "
   ]
  },
  {
   "cell_type": "code",
   "execution_count": 106,
   "metadata": {},
   "outputs": [
    {
     "data": {
      "text/plain": [
       "0.9531327258599986"
      ]
     },
     "execution_count": 106,
     "metadata": {},
     "output_type": "execute_result"
    }
   ],
   "source": [
    "right/tot"
   ]
  },
  {
   "cell_type": "code",
   "execution_count": null,
   "metadata": {},
   "outputs": [],
   "source": []
  },
  {
   "attachments": {},
   "cell_type": "markdown",
   "metadata": {},
   "source": [
    "# REAL TEST"
   ]
  },
  {
   "cell_type": "code",
   "execution_count": 127,
   "metadata": {},
   "outputs": [],
   "source": [
    "X_train_normalized = preprocessor.fit_transform(X_train)\n",
    "X_test_normalized = preprocessor.transform(X_test)"
   ]
  },
  {
   "cell_type": "code",
   "execution_count": 133,
   "metadata": {},
   "outputs": [
    {
     "name": "stdout",
     "output_type": "stream",
     "text": [
      "Epoch 1/50\n",
      "2655/2655 - 10s - loss: 0.2981 - accuracy: 0.8781 - val_loss: 0.2127 - val_accuracy: 0.9136 - 10s/epoch - 4ms/step\n",
      "Epoch 2/50\n",
      "2655/2655 - 8s - loss: 0.2191 - accuracy: 0.9093 - val_loss: 0.1883 - val_accuracy: 0.9198 - 8s/epoch - 3ms/step\n",
      "Epoch 3/50\n",
      "2655/2655 - 8s - loss: 0.1970 - accuracy: 0.9182 - val_loss: 0.1711 - val_accuracy: 0.9293 - 8s/epoch - 3ms/step\n",
      "Epoch 4/50\n",
      "2655/2655 - 9s - loss: 0.1841 - accuracy: 0.9217 - val_loss: 0.1606 - val_accuracy: 0.9362 - 9s/epoch - 3ms/step\n",
      "Epoch 5/50\n",
      "2655/2655 - 8s - loss: 0.1735 - accuracy: 0.9270 - val_loss: 0.1533 - val_accuracy: 0.9376 - 8s/epoch - 3ms/step\n",
      "Epoch 6/50\n",
      "2655/2655 - 8s - loss: 0.1657 - accuracy: 0.9307 - val_loss: 0.1517 - val_accuracy: 0.9363 - 8s/epoch - 3ms/step\n",
      "Epoch 7/50\n",
      "2655/2655 - 8s - loss: 0.1571 - accuracy: 0.9338 - val_loss: 0.1424 - val_accuracy: 0.9407 - 8s/epoch - 3ms/step\n",
      "Epoch 8/50\n",
      "2655/2655 - 8s - loss: 0.1519 - accuracy: 0.9365 - val_loss: 0.1372 - val_accuracy: 0.9433 - 8s/epoch - 3ms/step\n",
      "Epoch 9/50\n",
      "2655/2655 - 9s - loss: 0.1475 - accuracy: 0.9381 - val_loss: 0.1332 - val_accuracy: 0.9447 - 9s/epoch - 3ms/step\n",
      "Epoch 10/50\n",
      "2655/2655 - 8s - loss: 0.1408 - accuracy: 0.9402 - val_loss: 0.1315 - val_accuracy: 0.9439 - 8s/epoch - 3ms/step\n",
      "Epoch 11/50\n",
      "2655/2655 - 8s - loss: 0.1387 - accuracy: 0.9415 - val_loss: 0.1277 - val_accuracy: 0.9463 - 8s/epoch - 3ms/step\n",
      "Epoch 12/50\n",
      "2655/2655 - 8s - loss: 0.1359 - accuracy: 0.9430 - val_loss: 0.1272 - val_accuracy: 0.9455 - 8s/epoch - 3ms/step\n",
      "Epoch 13/50\n",
      "2655/2655 - 8s - loss: 0.1329 - accuracy: 0.9440 - val_loss: 0.1237 - val_accuracy: 0.9471 - 8s/epoch - 3ms/step\n",
      "Epoch 14/50\n",
      "2655/2655 - 8s - loss: 0.1315 - accuracy: 0.9446 - val_loss: 0.1243 - val_accuracy: 0.9470 - 8s/epoch - 3ms/step\n",
      "Epoch 15/50\n",
      "2655/2655 - 8s - loss: 0.1279 - accuracy: 0.9451 - val_loss: 0.1216 - val_accuracy: 0.9480 - 8s/epoch - 3ms/step\n",
      "Epoch 16/50\n",
      "2655/2655 - 8s - loss: 0.1275 - accuracy: 0.9464 - val_loss: 0.1218 - val_accuracy: 0.9483 - 8s/epoch - 3ms/step\n",
      "Epoch 17/50\n",
      "2655/2655 - 8s - loss: 0.1254 - accuracy: 0.9470 - val_loss: 0.1204 - val_accuracy: 0.9478 - 8s/epoch - 3ms/step\n",
      "Epoch 18/50\n",
      "2655/2655 - 8s - loss: 0.1238 - accuracy: 0.9479 - val_loss: 0.1190 - val_accuracy: 0.9487 - 8s/epoch - 3ms/step\n",
      "Epoch 19/50\n",
      "2655/2655 - 8s - loss: 0.1221 - accuracy: 0.9479 - val_loss: 0.1178 - val_accuracy: 0.9501 - 8s/epoch - 3ms/step\n",
      "Epoch 20/50\n",
      "2655/2655 - 8s - loss: 0.1200 - accuracy: 0.9494 - val_loss: 0.1173 - val_accuracy: 0.9491 - 8s/epoch - 3ms/step\n",
      "Epoch 21/50\n",
      "2655/2655 - 8s - loss: 0.1209 - accuracy: 0.9488 - val_loss: 0.1170 - val_accuracy: 0.9503 - 8s/epoch - 3ms/step\n",
      "Epoch 22/50\n",
      "2655/2655 - 8s - loss: 0.1175 - accuracy: 0.9499 - val_loss: 0.1166 - val_accuracy: 0.9502 - 8s/epoch - 3ms/step\n",
      "Epoch 23/50\n",
      "2655/2655 - 8s - loss: 0.1173 - accuracy: 0.9500 - val_loss: 0.1147 - val_accuracy: 0.9507 - 8s/epoch - 3ms/step\n",
      "Epoch 24/50\n",
      "2655/2655 - 8s - loss: 0.1153 - accuracy: 0.9508 - val_loss: 0.1155 - val_accuracy: 0.9498 - 8s/epoch - 3ms/step\n",
      "Epoch 25/50\n",
      "2655/2655 - 8s - loss: 0.1148 - accuracy: 0.9513 - val_loss: 0.1150 - val_accuracy: 0.9502 - 8s/epoch - 3ms/step\n",
      "Epoch 26/50\n",
      "2655/2655 - 8s - loss: 0.1145 - accuracy: 0.9517 - val_loss: 0.1140 - val_accuracy: 0.9509 - 8s/epoch - 3ms/step\n",
      "Epoch 27/50\n",
      "2655/2655 - 8s - loss: 0.1134 - accuracy: 0.9517 - val_loss: 0.1146 - val_accuracy: 0.9506 - 8s/epoch - 3ms/step\n",
      "Epoch 28/50\n",
      "2655/2655 - 8s - loss: 0.1130 - accuracy: 0.9516 - val_loss: 0.1152 - val_accuracy: 0.9495 - 8s/epoch - 3ms/step\n",
      "Epoch 29/50\n",
      "2655/2655 - 8s - loss: 0.1133 - accuracy: 0.9520 - val_loss: 0.1134 - val_accuracy: 0.9508 - 8s/epoch - 3ms/step\n",
      "Epoch 30/50\n",
      "2655/2655 - 8s - loss: 0.1121 - accuracy: 0.9518 - val_loss: 0.1120 - val_accuracy: 0.9515 - 8s/epoch - 3ms/step\n",
      "Epoch 31/50\n",
      "2655/2655 - 8s - loss: 0.1104 - accuracy: 0.9521 - val_loss: 0.1129 - val_accuracy: 0.9518 - 8s/epoch - 3ms/step\n",
      "Epoch 32/50\n",
      "2655/2655 - 8s - loss: 0.1094 - accuracy: 0.9532 - val_loss: 0.1130 - val_accuracy: 0.9503 - 8s/epoch - 3ms/step\n",
      "Epoch 33/50\n",
      "2655/2655 - 8s - loss: 0.1103 - accuracy: 0.9531 - val_loss: 0.1126 - val_accuracy: 0.9513 - 8s/epoch - 3ms/step\n",
      "Epoch 34/50\n",
      "2655/2655 - 8s - loss: 0.1085 - accuracy: 0.9533 - val_loss: 0.1122 - val_accuracy: 0.9517 - 8s/epoch - 3ms/step\n",
      "Epoch 35/50\n",
      "2655/2655 - 8s - loss: 0.1080 - accuracy: 0.9541 - val_loss: 0.1127 - val_accuracy: 0.9505 - 8s/epoch - 3ms/step\n",
      "Epoch 36/50\n",
      "2655/2655 - 8s - loss: 0.1075 - accuracy: 0.9541 - val_loss: 0.1114 - val_accuracy: 0.9519 - 8s/epoch - 3ms/step\n",
      "Epoch 37/50\n",
      "2655/2655 - 8s - loss: 0.1077 - accuracy: 0.9541 - val_loss: 0.1108 - val_accuracy: 0.9513 - 8s/epoch - 3ms/step\n",
      "Epoch 38/50\n",
      "2655/2655 - 8s - loss: 0.1066 - accuracy: 0.9544 - val_loss: 0.1102 - val_accuracy: 0.9524 - 8s/epoch - 3ms/step\n",
      "Epoch 39/50\n",
      "2655/2655 - 8s - loss: 0.1065 - accuracy: 0.9544 - val_loss: 0.1101 - val_accuracy: 0.9520 - 8s/epoch - 3ms/step\n",
      "Epoch 40/50\n",
      "2655/2655 - 8s - loss: 0.1061 - accuracy: 0.9551 - val_loss: 0.1100 - val_accuracy: 0.9518 - 8s/epoch - 3ms/step\n",
      "Epoch 41/50\n",
      "2655/2655 - 8s - loss: 0.1053 - accuracy: 0.9557 - val_loss: 0.1099 - val_accuracy: 0.9515 - 8s/epoch - 3ms/step\n",
      "Epoch 42/50\n",
      "2655/2655 - 8s - loss: 0.1044 - accuracy: 0.9550 - val_loss: 0.1105 - val_accuracy: 0.9522 - 8s/epoch - 3ms/step\n",
      "Epoch 43/50\n",
      "2655/2655 - 8s - loss: 0.1047 - accuracy: 0.9552 - val_loss: 0.1097 - val_accuracy: 0.9526 - 8s/epoch - 3ms/step\n",
      "Epoch 44/50\n",
      "2655/2655 - 8s - loss: 0.1034 - accuracy: 0.9548 - val_loss: 0.1112 - val_accuracy: 0.9531 - 8s/epoch - 3ms/step\n",
      "Epoch 45/50\n",
      "2655/2655 - 8s - loss: 0.1039 - accuracy: 0.9551 - val_loss: 0.1099 - val_accuracy: 0.9525 - 8s/epoch - 3ms/step\n",
      "Epoch 46/50\n",
      "2655/2655 - 8s - loss: 0.1036 - accuracy: 0.9552 - val_loss: 0.1096 - val_accuracy: 0.9527 - 8s/epoch - 3ms/step\n",
      "Epoch 47/50\n",
      "2655/2655 - 8s - loss: 0.1027 - accuracy: 0.9561 - val_loss: 0.1083 - val_accuracy: 0.9534 - 8s/epoch - 3ms/step\n",
      "Epoch 48/50\n",
      "2655/2655 - 8s - loss: 0.1039 - accuracy: 0.9555 - val_loss: 0.1097 - val_accuracy: 0.9535 - 8s/epoch - 3ms/step\n",
      "Epoch 49/50\n",
      "2655/2655 - 8s - loss: 0.1020 - accuracy: 0.9564 - val_loss: 0.1083 - val_accuracy: 0.9529 - 8s/epoch - 3ms/step\n",
      "Epoch 50/50\n",
      "2655/2655 - 8s - loss: 0.1023 - accuracy: 0.9561 - val_loss: 0.1072 - val_accuracy: 0.9525 - 8s/epoch - 3ms/step\n"
     ]
    }
   ],
   "source": [
    "history_1 = model_1.fit(X_train_normalized, \n",
    "                    y_train,\n",
    "                    validation_split=0.1, \n",
    "                    epochs= 50, #150 \n",
    "                    verbose=2)"
   ]
  },
  {
   "cell_type": "code",
   "execution_count": 134,
   "metadata": {},
   "outputs": [
    {
     "data": {
      "image/png": "[encoded data removed]",
      "text/plain": [
       "<Figure size 640x480 with 1 Axes>"
      ]
     },
     "metadata": {},
     "output_type": "display_data"
    }
   ],
   "source": [
    "plt.plot(history_1.history['accuracy'])\n",
    "plt.plot(history_1.history['val_accuracy'])\n",
    "plt.title('Accuracy vs Epochs')\n",
    "plt.ylabel('Accuracy')\n",
    "plt.xlabel('Epoch')\n",
    "plt.legend(['Train', 'Validation'], loc='lower right')\n",
    "plt.show()"
   ]
  },
  {
   "cell_type": "code",
   "execution_count": null,
   "metadata": {},
   "outputs": [],
   "source": []
  },
  {
   "cell_type": "code",
   "execution_count": 122,
   "metadata": {},
   "outputs": [
    {
     "name": "stdout",
     "output_type": "stream",
     "text": [
      "2950/2950 [==============================] - 6s 2ms/step - loss: 0.0848 - accuracy: 0.9635\n",
      "2950/2950 [==============================] - 5s 2ms/step\n"
     ]
    }
   ],
   "source": [
    "model_1.evaluate(X_train_normalized, y_train, verbose = 1)\n",
    "test_pred = np.round(model_1.predict(X_train_normalized))"
   ]
  },
  {
   "cell_type": "code",
   "execution_count": 123,
   "metadata": {},
   "outputs": [
    {
     "data": {
      "text/plain": [
       "0.9634664491041439"
      ]
     },
     "execution_count": 123,
     "metadata": {},
     "output_type": "execute_result"
    }
   ],
   "source": [
    "right = 0\n",
    "tot = 0\n",
    "for i in range(len(y_train)):\n",
    "    tot +=1\n",
    "    if y_train.iloc[i] == int(test_pred.flatten()[i]):\n",
    "        right +=1\n",
    "\n",
    "right/tot"
   ]
  },
  {
   "cell_type": "code",
   "execution_count": null,
   "metadata": {},
   "outputs": [],
   "source": []
  },
  {
   "cell_type": "code",
   "execution_count": 94,
   "metadata": {},
   "outputs": [
    {
     "name": "stdout",
     "output_type": "stream",
     "text": [
      "1113/1113 [==============================] - 1s 1ms/step\n"
     ]
    },
    {
     "data": {
      "text/plain": [
       "35602"
      ]
     },
     "execution_count": 94,
     "metadata": {},
     "output_type": "execute_result"
    }
   ],
   "source": [
    "test_pred = np.round(model_1.predict(X_test_normalized))\n",
    "len(test_pred.flatten())"
   ]
  },
  {
   "cell_type": "code",
   "execution_count": 95,
   "metadata": {},
   "outputs": [
    {
     "data": {
      "text/html": [
       "<div>\n",
       "<style scoped>\n",
       "    .dataframe tbody tr th:only-of-type {\n",
       "        vertical-align: middle;\n",
       "    }\n",
       "\n",
       "    .dataframe tbody tr th {\n",
       "        vertical-align: top;\n",
       "    }\n",
       "\n",
       "    .dataframe thead th {\n",
       "        text-align: right;\n",
       "    }\n",
       "</style>\n",
       "<table border=\"1\" class=\"dataframe\">\n",
       "  <thead>\n",
       "    <tr style=\"text-align: right;\">\n",
       "      <th></th>\n",
       "      <th>ID</th>\n",
       "      <th>Overall_Experience</th>\n",
       "    </tr>\n",
       "  </thead>\n",
       "  <tbody>\n",
       "    <tr>\n",
       "      <th>0</th>\n",
       "      <td>99900001</td>\n",
       "      <td>1.0</td>\n",
       "    </tr>\n",
       "    <tr>\n",
       "      <th>1</th>\n",
       "      <td>99900002</td>\n",
       "      <td>1.0</td>\n",
       "    </tr>\n",
       "    <tr>\n",
       "      <th>2</th>\n",
       "      <td>99900003</td>\n",
       "      <td>1.0</td>\n",
       "    </tr>\n",
       "    <tr>\n",
       "      <th>3</th>\n",
       "      <td>99900004</td>\n",
       "      <td>0.0</td>\n",
       "    </tr>\n",
       "    <tr>\n",
       "      <th>4</th>\n",
       "      <td>99900005</td>\n",
       "      <td>1.0</td>\n",
       "    </tr>\n",
       "  </tbody>\n",
       "</table>\n",
       "</div>"
      ],
      "text/plain": [
       "         ID  Overall_Experience\n",
       "0  99900001                 1.0\n",
       "1  99900002                 1.0\n",
       "2  99900003                 1.0\n",
       "3  99900004                 0.0\n",
       "4  99900005                 1.0"
      ]
     },
     "execution_count": 95,
     "metadata": {},
     "output_type": "execute_result"
    }
   ],
   "source": [
    "df_DL_test = df_union_test.copy()[['ID', 'Seat_Comfort' ]]\n",
    "df_DL_test.rename(columns = {'Seat_Comfort' : 'Overall_Experience'}, inplace=True)\n",
    "df_DL_test['Overall_Experience'] = test_pred.flatten()\n",
    "df_DL_test.head()"
   ]
  },
  {
   "cell_type": "code",
   "execution_count": 97,
   "metadata": {},
   "outputs": [],
   "source": [
    "df_DL_test.to_csv('DL_test.csv', index=None)"
   ]
  },
  {
   "cell_type": "code",
   "execution_count": null,
   "metadata": {},
   "outputs": [],
   "source": []
  },
  {
   "cell_type": "code",
   "execution_count": null,
   "metadata": {},
   "outputs": [],
   "source": []
  },
  {
   "cell_type": "code",
   "execution_count": null,
   "metadata": {},
   "outputs": [],
   "source": []
  },
  {
   "cell_type": "code",
   "execution_count": null,
   "metadata": {},
   "outputs": [],
   "source": []
  },
  {
   "cell_type": "code",
   "execution_count": null,
   "metadata": {},
   "outputs": [],
   "source": []
  },
  {
   "cell_type": "code",
   "execution_count": null,
   "metadata": {},
   "outputs": [],
   "source": []
  },
  {
   "cell_type": "code",
   "execution_count": 36,
   "metadata": {},
   "outputs": [
    {
     "data": {
      "text/plain": [
       "array([1., 0., 0., ..., 0., 0., 0.], dtype=float32)"
      ]
     },
     "execution_count": 36,
     "metadata": {},
     "output_type": "execute_result"
    }
   ],
   "source": [
    "test_pred.flatten()"
   ]
  },
  {
   "cell_type": "code",
   "execution_count": null,
   "metadata": {},
   "outputs": [],
   "source": [
    "model_3.evaluate(X_train_test_normalized, y_test, verbose = 1)\n",
    "test_pred = np.round(model_3.predict(X_test_normalized))"
   ]
  },
  {
   "cell_type": "code",
   "execution_count": null,
   "metadata": {},
   "outputs": [],
   "source": []
  },
  {
   "cell_type": "code",
   "execution_count": null,
   "metadata": {},
   "outputs": [],
   "source": []
  },
  {
   "cell_type": "code",
   "execution_count": 8,
   "metadata": {},
   "outputs": [],
   "source": [
    "numeric_features_min_max = ['Seat_Comfort', 'Seat_Class', 'Arrival_Time_Convenient', 'Catering','Platform_Location', 'Onboard_Wifi_Service', \n",
    "                            'Onboard_Entertainment','Online_Support', 'Ease_of_Online_Booking', 'Onboard_Service','Legroom', 'Baggage_Handling', \n",
    "                            'CheckIn_Service', 'Cleanliness','Online_Boarding', 'Gender', 'Customer_Type', 'Age', 'Type_Travel','Travel_Class']\n",
    "\n",
    "numeric_features_standard = [   'Travel_Distance', 'Departure_Delay_in_Mins', 'Arrival_Delay_in_Mins']\n",
    "\n",
    "\n",
    "numeric_transformer = Pipeline(\n",
    "    steps = [ ('scaler1', MinMaxScaler() ), ('scaler2', StandardScaler() ), ('imputer', KNNImputer(n_neighbors=4) ) ] \n",
    "    # ('imputer', SimpleImputer(strategy='median') ), ADD LATER ON, , ('imputer',  IterativeImputer(random_state=0, initial_strategy='median') ('imputer', KNNImputer(n_neighbors=4) )\n",
    ")\n",
    "\n",
    "# Here the pre-processor step\n",
    "preprocessor = ColumnTransformer(\n",
    "    transformers=[\n",
    "        (\"numeric1\", numeric_transformer, numeric_features_min_max ),\n",
    "        (\"numeric2\", numeric_transformer, numeric_features_standard )\n",
    "    ]\n",
    ")\n",
    "\n",
    "# here the Pipeline\n",
    "pipe_rf = Pipeline(\n",
    "    steps = [('preprocessor', preprocessor), ('regressor', RandomForestClassifier(n_estimators = 100, n_jobs=-1) ) ]#n_estimators =1000 5min try 2k\n",
    ")\n",
    "\n",
    "\n",
    "#pipe_rf.fit(X_train_train, y_train_train)\n",
    "\n",
    "#y_pred_train_train = pipe_rf.predict(X_train_train)\n",
    "\n",
    "#metrics_score(y_train_train, y_pred_train_train)\n"
   ]
  },
  {
   "cell_type": "code",
   "execution_count": null,
   "metadata": {},
   "outputs": [],
   "source": [
    "pipe_rf.fit(X_train_train, y_train_train)\n",
    "\n",
    "y_pred_train_test = pipe_rf.predict(X_train_test)\n",
    "\n",
    "#metrics_score(y_train_test, y_pred_train_test)\n",
    "accuracy(y_train_test, y_pred_train_test)"
   ]
  }
 ],
 "metadata": {
  "kernelspec": {
   "display_name": "Python 3 (ipykernel)",
   "language": "python",
   "name": "python3"
  },
  "language_info": {
   "codemirror_mode": {
    "name": "ipython",
    "version": 3
   },
   "file_extension": ".py",
   "mimetype": "text/x-python",
   "name": "python",
   "nbconvert_exporter": "python",
   "pygments_lexer": "ipython3",
   "version": "3.9.13"
  }
 },
 "nbformat": 4,
 "nbformat_minor": 2
}
