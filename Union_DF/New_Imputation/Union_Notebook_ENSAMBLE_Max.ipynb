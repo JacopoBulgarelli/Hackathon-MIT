{
 "cells": [
  {
   "attachments": {},
   "cell_type": "markdown",
   "metadata": {},
   "source": [
    "# Here there is Only the Cleaning of the Model"
   ]
  },
  {
   "cell_type": "code",
   "execution_count": 1,
   "metadata": {},
   "outputs": [],
   "source": [
    "# Importing the basic libraries we will require for the project\n",
    "\n",
    "# Libraries to help with reading and manipulating data\n",
    "import pandas as pd\n",
    "import numpy as np\n",
    "\n",
    "# Libaries to help with data visualization\n",
    "import matplotlib.pyplot as plt\n",
    "import seaborn as sns\n",
    "sns.set()\n",
    "\n",
    "# Importing the Machine Learning models we require from Scikit-Learn\n",
    "from sklearn.linear_model import LogisticRegression\n",
    "from sklearn.svm import SVC\n",
    "from sklearn.tree import DecisionTreeClassifier\n",
    "from sklearn import tree\n",
    "from sklearn.ensemble import RandomForestClassifier\n",
    "from sklearn.ensemble import GradientBoostingClassifier\n",
    "\n",
    "\n",
    "# Importing the other functions we may require from Scikit-Learn\n",
    "from sklearn.model_selection import train_test_split, GridSearchCV\n",
    "from sklearn.preprocessing import MinMaxScaler, LabelEncoder, OneHotEncoder\n",
    "from sklearn.preprocessing import StandardScaler\n",
    "\n",
    "# To get diferent metric scores\n",
    "from sklearn.metrics import confusion_matrix,classification_report,roc_auc_score,plot_confusion_matrix,precision_recall_curve,roc_curve,make_scorer\n",
    "\n",
    "# Code to ignore warnings from function usage\n",
    "import warnings;\n",
    "import numpy as np\n",
    "warnings.filterwarnings('ignore')\n",
    "\n",
    "from sklearn.impute import SimpleImputer\n",
    "\n",
    "from sklearn.compose import ColumnTransformer\n",
    "from sklearn.pipeline import Pipeline\n",
    "\n",
    "from sklearn.impute import KNNImputer\n",
    "\n",
    "\n",
    "from sklearn.experimental import enable_iterative_imputer\n",
    "from sklearn.impute import IterativeImputer"
   ]
  },
  {
   "cell_type": "code",
   "execution_count": 26,
   "metadata": {},
   "outputs": [
    {
     "data": {
      "text/plain": [
       "1"
      ]
     },
     "execution_count": 26,
     "metadata": {},
     "output_type": "execute_result"
    }
   ],
   "source": [
    "inverse_mapper = {0:1, 1:0}\n",
    "\n",
    "data = df2_result_rand.iloc[10][1]\n",
    "data\n",
    "\n",
    "inverse_mapper[data]"
   ]
  },
  {
   "cell_type": "code",
   "execution_count": 27,
   "metadata": {},
   "outputs": [],
   "source": [
    "df1_result_DL = pd.read_csv('DL_test.csv')\n",
    "df2_result_rand  = pd.read_csv('Random_Forest_Classifier_last3.csv')\n",
    "\n"
   ]
  },
  {
   "cell_type": "code",
   "execution_count": 28,
   "metadata": {},
   "outputs": [],
   "source": [
    "my_dict = {}\n",
    "for row_i in range(df1_result_DL.shape[0]):\n",
    "    if df1_result_DL.iloc[row_i][1] == df2_result_rand.iloc[row_i][1]:\n",
    "        #print(round(int(df1_result_DL .iloc[row_i][0]), 0))\n",
    "        my_dict[row_i] = [int(df1_result_DL.iloc[row_i][0]),  df1_result_DL.iloc[row_i][1]]\n",
    "\n",
    "        \n",
    "    if df1_result_DL.iloc[row_i][1] != df2_result_rand.iloc[row_i][1]:\n",
    "        #print(0)\n",
    "        inverse_mapper = {0:1, 1:0}\n",
    "        data = df1_result_DL.iloc[row_i][1]\n",
    "        my_dict[row_i] = [int(df1_result_DL.iloc[row_i][0]),  float(np.random.choice([0,1]))] # float(np.random.choice([0,1]))  # float(inverse_mapper[data])\n"
   ]
  },
  {
   "cell_type": "code",
   "execution_count": 24,
   "metadata": {},
   "outputs": [
    {
     "data": {
      "text/plain": [
       "ID                    0\n",
       "Overall_Experience    0\n",
       "dtype: int64"
      ]
     },
     "execution_count": 24,
     "metadata": {},
     "output_type": "execute_result"
    }
   ],
   "source": [
    "df4_result_endamble.isna().sum()"
   ]
  },
  {
   "cell_type": "code",
   "execution_count": null,
   "metadata": {},
   "outputs": [],
   "source": []
  },
  {
   "cell_type": "code",
   "execution_count": null,
   "metadata": {},
   "outputs": [],
   "source": []
  },
  {
   "cell_type": "code",
   "execution_count": 29,
   "metadata": {},
   "outputs": [
    {
     "data": {
      "text/html": [
       "<div>\n",
       "<style scoped>\n",
       "    .dataframe tbody tr th:only-of-type {\n",
       "        vertical-align: middle;\n",
       "    }\n",
       "\n",
       "    .dataframe tbody tr th {\n",
       "        vertical-align: top;\n",
       "    }\n",
       "\n",
       "    .dataframe thead th {\n",
       "        text-align: right;\n",
       "    }\n",
       "</style>\n",
       "<table border=\"1\" class=\"dataframe\">\n",
       "  <thead>\n",
       "    <tr style=\"text-align: right;\">\n",
       "      <th></th>\n",
       "      <th>ID</th>\n",
       "      <th>Overall_Experience</th>\n",
       "    </tr>\n",
       "  </thead>\n",
       "  <tbody>\n",
       "    <tr>\n",
       "      <th>0</th>\n",
       "      <td>99900001</td>\n",
       "      <td>1.0</td>\n",
       "    </tr>\n",
       "    <tr>\n",
       "      <th>1</th>\n",
       "      <td>99900002</td>\n",
       "      <td>1.0</td>\n",
       "    </tr>\n",
       "    <tr>\n",
       "      <th>2</th>\n",
       "      <td>99900003</td>\n",
       "      <td>1.0</td>\n",
       "    </tr>\n",
       "    <tr>\n",
       "      <th>3</th>\n",
       "      <td>99900004</td>\n",
       "      <td>0.0</td>\n",
       "    </tr>\n",
       "    <tr>\n",
       "      <th>4</th>\n",
       "      <td>99900005</td>\n",
       "      <td>1.0</td>\n",
       "    </tr>\n",
       "    <tr>\n",
       "      <th>...</th>\n",
       "      <td>...</td>\n",
       "      <td>...</td>\n",
       "    </tr>\n",
       "    <tr>\n",
       "      <th>35597</th>\n",
       "      <td>99935598</td>\n",
       "      <td>0.0</td>\n",
       "    </tr>\n",
       "    <tr>\n",
       "      <th>35598</th>\n",
       "      <td>99935599</td>\n",
       "      <td>1.0</td>\n",
       "    </tr>\n",
       "    <tr>\n",
       "      <th>35599</th>\n",
       "      <td>99935600</td>\n",
       "      <td>1.0</td>\n",
       "    </tr>\n",
       "    <tr>\n",
       "      <th>35600</th>\n",
       "      <td>99935601</td>\n",
       "      <td>1.0</td>\n",
       "    </tr>\n",
       "    <tr>\n",
       "      <th>35601</th>\n",
       "      <td>99935602</td>\n",
       "      <td>0.0</td>\n",
       "    </tr>\n",
       "  </tbody>\n",
       "</table>\n",
       "<p>35602 rows × 2 columns</p>\n",
       "</div>"
      ],
      "text/plain": [
       "             ID  Overall_Experience\n",
       "0      99900001                 1.0\n",
       "1      99900002                 1.0\n",
       "2      99900003                 1.0\n",
       "3      99900004                 0.0\n",
       "4      99900005                 1.0\n",
       "...         ...                 ...\n",
       "35597  99935598                 0.0\n",
       "35598  99935599                 1.0\n",
       "35599  99935600                 1.0\n",
       "35600  99935601                 1.0\n",
       "35601  99935602                 0.0\n",
       "\n",
       "[35602 rows x 2 columns]"
      ]
     },
     "execution_count": 29,
     "metadata": {},
     "output_type": "execute_result"
    }
   ],
   "source": [
    "df4_result_endamble = pd.DataFrame(my_dict).T\n",
    "df4_result_endamble.rename(columns={0:'ID', 1:'Overall_Experience'}, inplace=True)\n",
    "df4_result_endamble['ID'] = df4_result_endamble['ID'].astype(int)\n",
    "df4_result_endamble"
   ]
  },
  {
   "cell_type": "code",
   "execution_count": 30,
   "metadata": {},
   "outputs": [],
   "source": [
    "df4_result_endamble.to_csv('Ensamble_Test.csv', index=None)"
   ]
  },
  {
   "cell_type": "code",
   "execution_count": null,
   "metadata": {},
   "outputs": [],
   "source": []
  },
  {
   "cell_type": "code",
   "execution_count": 7,
   "metadata": {},
   "outputs": [
    {
     "data": {
      "text/plain": [
       "ID                    0\n",
       "Overall_Experience    0\n",
       "dtype: int64"
      ]
     },
     "execution_count": 7,
     "metadata": {},
     "output_type": "execute_result"
    }
   ],
   "source": [
    "df4_result_endamble.isna().sum()"
   ]
  },
  {
   "cell_type": "code",
   "execution_count": 42,
   "metadata": {},
   "outputs": [
    {
     "data": {
      "text/plain": [
       "1.0"
      ]
     },
     "execution_count": 42,
     "metadata": {},
     "output_type": "execute_result"
    }
   ],
   "source": [
    "float(np.random.choice([0,1]))"
   ]
  },
  {
   "cell_type": "code",
   "execution_count": 30,
   "metadata": {},
   "outputs": [
    {
     "data": {
      "text/plain": [
       "3.7385540138194484"
      ]
     },
     "execution_count": 30,
     "metadata": {},
     "output_type": "execute_result"
    }
   ],
   "source": [
    "(1331/35602)*100"
   ]
  },
  {
   "cell_type": "code",
   "execution_count": 34,
   "metadata": {},
   "outputs": [
    {
     "data": {
      "text/plain": [
       "array([0.38352517, 0.91999165, 0.41722423])"
      ]
     },
     "execution_count": 34,
     "metadata": {},
     "output_type": "execute_result"
    }
   ],
   "source": [
    "np.random.rand(3)"
   ]
  },
  {
   "cell_type": "code",
   "execution_count": null,
   "metadata": {},
   "outputs": [],
   "source": []
  },
  {
   "cell_type": "code",
   "execution_count": null,
   "metadata": {},
   "outputs": [],
   "source": []
  },
  {
   "cell_type": "code",
   "execution_count": null,
   "metadata": {},
   "outputs": [],
   "source": []
  },
  {
   "cell_type": "code",
   "execution_count": 2,
   "metadata": {},
   "outputs": [
    {
     "data": {
      "text/plain": [
       "(35602, 24)"
      ]
     },
     "execution_count": 2,
     "metadata": {},
     "output_type": "execute_result"
    }
   ],
   "source": [
    "df1_test = pd.read_csv('Surveydata_test_cleaned_v2.csv')\n",
    "df2_test = pd.read_csv('Traveldata_test_cleaned_v2.csv')\n",
    "\n",
    "df_union_test = pd.merge(df1_test, df2_test, on = 'ID')\n",
    "del df_union_test['Unnamed: 0_x']\n",
    "del df_union_test['Unnamed: 0_y']\n",
    "\n",
    "df_union_test.shape"
   ]
  },
  {
   "cell_type": "code",
   "execution_count": null,
   "metadata": {},
   "outputs": [],
   "source": []
  },
  {
   "cell_type": "code",
   "execution_count": 3,
   "metadata": {},
   "outputs": [
    {
     "data": {
      "text/plain": [
       "(94379, 25)"
      ]
     },
     "execution_count": 3,
     "metadata": {},
     "output_type": "execute_result"
    }
   ],
   "source": [
    "df1_train = pd.read_csv('Surveydata_train_cleaned_v2.csv')\n",
    "df2_train = pd.read_csv('Traveldata_train_cleaned_v2.csv')\n",
    "\n",
    "df_union_train = pd.merge(df1_train, df2_train, on = 'ID')\n",
    "del df_union_train['Unnamed: 0_x']\n",
    "del df_union_train['Unnamed: 0_y']\n",
    "\n",
    "df_union_train.shape"
   ]
  },
  {
   "cell_type": "code",
   "execution_count": 4,
   "metadata": {},
   "outputs": [
    {
     "data": {
      "text/plain": [
       "ID                            0\n",
       "Overall_Experience            0\n",
       "Seat_Comfort                 61\n",
       "Seat_Class                    0\n",
       "Arrival_Time_Convenient    8930\n",
       "Catering                   8741\n",
       "Platform_Location            30\n",
       "Onboard_Wifi_Service         30\n",
       "Onboard_Entertainment        18\n",
       "Online_Support               91\n",
       "Ease_of_Online_Booking       73\n",
       "Onboard_Service            7601\n",
       "Legroom                      90\n",
       "Baggage_Handling            142\n",
       "CheckIn_Service              77\n",
       "Cleanliness                   6\n",
       "Online_Boarding               6\n",
       "Gender                       77\n",
       "Customer_Type              8951\n",
       "Age                          33\n",
       "Type_Travel                9226\n",
       "Travel_Class                  0\n",
       "Travel_Distance               0\n",
       "Departure_Delay_in_Mins      57\n",
       "Arrival_Delay_in_Mins       357\n",
       "dtype: int64"
      ]
     },
     "execution_count": 4,
     "metadata": {},
     "output_type": "execute_result"
    }
   ],
   "source": [
    "df_union_train.isna().sum()"
   ]
  },
  {
   "cell_type": "code",
   "execution_count": 5,
   "metadata": {},
   "outputs": [
    {
     "data": {
      "text/plain": [
       "ID                            0\n",
       "Seat_Comfort                 22\n",
       "Seat_Class                    0\n",
       "Arrival_Time_Convenient    3325\n",
       "Catering                   3357\n",
       "Platform_Location            12\n",
       "Onboard_Wifi_Service         12\n",
       "Onboard_Entertainment         8\n",
       "Online_Support               26\n",
       "Ease_of_Online_Booking       18\n",
       "Onboard_Service            2872\n",
       "Legroom                      25\n",
       "Baggage_Handling             40\n",
       "CheckIn_Service              22\n",
       "Cleanliness                   2\n",
       "Online_Boarding               2\n",
       "Gender                       30\n",
       "Customer_Type              3383\n",
       "Age                          11\n",
       "Type_Travel                3448\n",
       "Travel_Class                  0\n",
       "Travel_Distance               0\n",
       "Departure_Delay_in_Mins      29\n",
       "Arrival_Delay_in_Mins       123\n",
       "dtype: int64"
      ]
     },
     "execution_count": 5,
     "metadata": {},
     "output_type": "execute_result"
    }
   ],
   "source": [
    "df_union_test.isna().sum()"
   ]
  },
  {
   "attachments": {},
   "cell_type": "markdown",
   "metadata": {},
   "source": [
    "# Let's Start with the Pipeline§"
   ]
  },
  {
   "cell_type": "code",
   "execution_count": 6,
   "metadata": {},
   "outputs": [],
   "source": [
    "# Creating metric function \n",
    "\n",
    "def metrics_score(actual, predicted):\n",
    "    print(classification_report(actual, predicted))\n",
    "    cm = confusion_matrix(actual, predicted)\n",
    "    plt.figure(figsize=(8,5))\n",
    "    sns.heatmap(cm, annot=True,  fmt='.1f', xticklabels=['Not Attrite', 'Attrite'], yticklabels=['Not Attrite', 'Attrite'])\n",
    "    plt.ylabel('Actual')\n",
    "    plt.xlabel('Predicted')\n",
    "    plt.show()"
   ]
  },
  {
   "cell_type": "code",
   "execution_count": 7,
   "metadata": {},
   "outputs": [],
   "source": [
    "def accuracy(y_train_test, y_pred_train_test):\n",
    "    cm = confusion_matrix(y_train_test, y_pred_train_test)\n",
    "    tot = sum(sum(cm))\n",
    "    zero = cm[0][0]\n",
    "    one = cm[1][1]\n",
    "\n",
    "    accuracy = (one + zero)/tot\n",
    "    return accuracy"
   ]
  },
  {
   "attachments": {},
   "cell_type": "markdown",
   "metadata": {},
   "source": [
    "### THE True Train and Test"
   ]
  },
  {
   "cell_type": "code",
   "execution_count": 8,
   "metadata": {},
   "outputs": [
    {
     "data": {
      "text/plain": [
       "(94379, 23)"
      ]
     },
     "execution_count": 8,
     "metadata": {},
     "output_type": "execute_result"
    }
   ],
   "source": [
    "X_train = df_union_train.drop(['ID',\"Overall_Experience\"], axis=1) # keep it as a Matrix\n",
    "y_train = df_union_train[\"Overall_Experience\"]  # keep it as an array\n",
    "\n",
    "X_train.shape"
   ]
  },
  {
   "cell_type": "code",
   "execution_count": 9,
   "metadata": {},
   "outputs": [
    {
     "data": {
      "text/plain": [
       "(35602, 23)"
      ]
     },
     "execution_count": 9,
     "metadata": {},
     "output_type": "execute_result"
    }
   ],
   "source": [
    "X_test = df_union_test.drop(['ID'], axis=1) # keep it as a Matrix\n",
    "\n",
    "X_test.shape"
   ]
  },
  {
   "attachments": {},
   "cell_type": "markdown",
   "metadata": {},
   "source": [
    "### SPLIT THE TRAIN SET in further Train-Train to check "
   ]
  },
  {
   "cell_type": "code",
   "execution_count": 10,
   "metadata": {},
   "outputs": [],
   "source": [
    "X_train_train ,X_train_test , y_train_train, y_train_test = train_test_split(X_train , y_train, test_size=0.3, random_state=5, stratify= y_train)"
   ]
  },
  {
   "cell_type": "code",
   "execution_count": null,
   "metadata": {},
   "outputs": [],
   "source": []
  },
  {
   "cell_type": "code",
   "execution_count": 13,
   "metadata": {},
   "outputs": [],
   "source": [
    "numeric_features_min_max = ['Seat_Comfort', 'Seat_Class', 'Arrival_Time_Convenient', 'Catering','Platform_Location', 'Onboard_Wifi_Service', \n",
    "                            'Onboard_Entertainment','Online_Support', 'Ease_of_Online_Booking', 'Onboard_Service','Legroom', 'Baggage_Handling', \n",
    "                            'CheckIn_Service', 'Cleanliness','Online_Boarding', 'Gender', 'Customer_Type', 'Age', 'Type_Travel','Travel_Class']\n",
    "\n",
    "numeric_features_standard = [   'Travel_Distance', 'Departure_Delay_in_Mins', 'Arrival_Delay_in_Mins']\n",
    "\n",
    "\n",
    "numeric_transformer = Pipeline(\n",
    "    steps = [ ('scaler1', MinMaxScaler() ), ('scaler2', StandardScaler() ), ('imputer', KNNImputer(n_neighbors=5) ) ] \n",
    "    # ('imputer', SimpleImputer(strategy='median') ), ADD LATER ON, , ('imputer',  IterativeImputer(random_state=0, initial_strategy='median')\n",
    ")\n",
    "\n",
    "# Here the pre-processor step\n",
    "preprocessor = ColumnTransformer(\n",
    "    transformers=[\n",
    "        (\"numeric1\", numeric_transformer, numeric_features_min_max ),\n",
    "        (\"numeric2\", numeric_transformer, numeric_features_standard )\n",
    "    ]\n",
    ")\n",
    "\n",
    "# here the Pipeline\n",
    "pipe_rf = Pipeline(\n",
    "    steps = [('preprocessor', preprocessor), ('regressor', GradientBoostingClassifier(criterion = 'squared_error', learning_rate=1, n_estimators=500, tol=0.001) ) ]\n",
    ")\n",
    "\n",
    "\n",
    "#pipe_rf.fit(X_train_train, y_train_train)\n",
    "\n",
    "#y_pred_train_train = pipe_rf.predict(X_train_train)\n",
    "\n",
    "#metrics_score(y_train_train, y_pred_train_train)\n"
   ]
  },
  {
   "cell_type": "code",
   "execution_count": 14,
   "metadata": {},
   "outputs": [
    {
     "data": {
      "text/plain": [
       "0.9472699018153563"
      ]
     },
     "execution_count": 14,
     "metadata": {},
     "output_type": "execute_result"
    }
   ],
   "source": [
    "pipe_rf.fit(X_train_train, y_train_train)\n",
    "\n",
    "y_pred_train_test = pipe_rf.predict(X_train_test)\n",
    "\n",
    "#metrics_score(y_train_test, y_pred_train_test)\n",
    "accuracy(y_train_test, y_pred_train_test)"
   ]
  },
  {
   "cell_type": "code",
   "execution_count": null,
   "metadata": {},
   "outputs": [],
   "source": []
  },
  {
   "cell_type": "code",
   "execution_count": null,
   "metadata": {},
   "outputs": [],
   "source": []
  },
  {
   "cell_type": "code",
   "execution_count": null,
   "metadata": {},
   "outputs": [],
   "source": []
  },
  {
   "cell_type": "code",
   "execution_count": 15,
   "metadata": {},
   "outputs": [],
   "source": [
    "#pipe_rf.fit(X_train, y_train)\n",
    "\n",
    "#y_pred_train = pipe_rf.predict(X_train)\n",
    "\n",
    "#metrics_score(y_train, y_pred_train)"
   ]
  },
  {
   "cell_type": "code",
   "execution_count": null,
   "metadata": {},
   "outputs": [],
   "source": []
  },
  {
   "cell_type": "code",
   "execution_count": 16,
   "metadata": {},
   "outputs": [
    {
     "data": {
      "text/plain": [
       "array([1, 1, 1, ..., 0, 1, 0], dtype=int64)"
      ]
     },
     "execution_count": 16,
     "metadata": {},
     "output_type": "execute_result"
    }
   ],
   "source": [
    "pipe_rf.fit(X_train, y_train)\n",
    "\n",
    "y_pred_test = pipe_rf.predict(X_test)\n",
    "\n",
    "#metrics_score(y_test, y_pred_test)\n",
    "y_pred_test"
   ]
  },
  {
   "cell_type": "code",
   "execution_count": 17,
   "metadata": {},
   "outputs": [
    {
     "data": {
      "text/html": [
       "<div>\n",
       "<style scoped>\n",
       "    .dataframe tbody tr th:only-of-type {\n",
       "        vertical-align: middle;\n",
       "    }\n",
       "\n",
       "    .dataframe tbody tr th {\n",
       "        vertical-align: top;\n",
       "    }\n",
       "\n",
       "    .dataframe thead th {\n",
       "        text-align: right;\n",
       "    }\n",
       "</style>\n",
       "<table border=\"1\" class=\"dataframe\">\n",
       "  <thead>\n",
       "    <tr style=\"text-align: right;\">\n",
       "      <th></th>\n",
       "      <th>ID</th>\n",
       "      <th>Overall_Experience</th>\n",
       "    </tr>\n",
       "  </thead>\n",
       "  <tbody>\n",
       "    <tr>\n",
       "      <th>0</th>\n",
       "      <td>99900001</td>\n",
       "      <td>1</td>\n",
       "    </tr>\n",
       "    <tr>\n",
       "      <th>1</th>\n",
       "      <td>99900002</td>\n",
       "      <td>1</td>\n",
       "    </tr>\n",
       "    <tr>\n",
       "      <th>2</th>\n",
       "      <td>99900003</td>\n",
       "      <td>1</td>\n",
       "    </tr>\n",
       "    <tr>\n",
       "      <th>3</th>\n",
       "      <td>99900004</td>\n",
       "      <td>0</td>\n",
       "    </tr>\n",
       "    <tr>\n",
       "      <th>4</th>\n",
       "      <td>99900005</td>\n",
       "      <td>1</td>\n",
       "    </tr>\n",
       "    <tr>\n",
       "      <th>...</th>\n",
       "      <td>...</td>\n",
       "      <td>...</td>\n",
       "    </tr>\n",
       "    <tr>\n",
       "      <th>35597</th>\n",
       "      <td>99935598</td>\n",
       "      <td>0</td>\n",
       "    </tr>\n",
       "    <tr>\n",
       "      <th>35598</th>\n",
       "      <td>99935599</td>\n",
       "      <td>1</td>\n",
       "    </tr>\n",
       "    <tr>\n",
       "      <th>35599</th>\n",
       "      <td>99935600</td>\n",
       "      <td>0</td>\n",
       "    </tr>\n",
       "    <tr>\n",
       "      <th>35600</th>\n",
       "      <td>99935601</td>\n",
       "      <td>1</td>\n",
       "    </tr>\n",
       "    <tr>\n",
       "      <th>35601</th>\n",
       "      <td>99935602</td>\n",
       "      <td>0</td>\n",
       "    </tr>\n",
       "  </tbody>\n",
       "</table>\n",
       "<p>35602 rows × 2 columns</p>\n",
       "</div>"
      ],
      "text/plain": [
       "             ID  Overall_Experience\n",
       "0      99900001                   1\n",
       "1      99900002                   1\n",
       "2      99900003                   1\n",
       "3      99900004                   0\n",
       "4      99900005                   1\n",
       "...         ...                 ...\n",
       "35597  99935598                   0\n",
       "35598  99935599                   1\n",
       "35599  99935600                   0\n",
       "35600  99935601                   1\n",
       "35601  99935602                   0\n",
       "\n",
       "[35602 rows x 2 columns]"
      ]
     },
     "execution_count": 17,
     "metadata": {},
     "output_type": "execute_result"
    }
   ],
   "source": [
    "df_final = df_union_test[['ID']]\n",
    "df_final['Overall_Experience'] = y_pred_test\n",
    "\n",
    "df_final"
   ]
  },
  {
   "cell_type": "code",
   "execution_count": 18,
   "metadata": {},
   "outputs": [],
   "source": [
    "df_final.to_csv('Gradient_Boosting_Classifier_last.csv',  index=False)"
   ]
  },
  {
   "cell_type": "code",
   "execution_count": null,
   "metadata": {},
   "outputs": [],
   "source": []
  },
  {
   "cell_type": "code",
   "execution_count": 15,
   "metadata": {},
   "outputs": [],
   "source": [
    "#pipe_rf.get_params()"
   ]
  },
  {
   "cell_type": "code",
   "execution_count": 16,
   "metadata": {},
   "outputs": [
    {
     "name": "stdout",
     "output_type": "stream",
     "text": [
      "Fitting 3 folds for each of 16 candidates, totalling 48 fits\n"
     ]
    }
   ],
   "source": [
    "pipe_param_grid = { 'regressor__ccp_alpha': [-1, 0.0],\n",
    " 'regressor__criterion': ['squared_error'],\n",
    " 'regressor__init': [None],\n",
    " 'regressor__learning_rate': [0.1, 0.5],\n",
    " 'regressor__loss': ['deviance'],\n",
    " 'regressor__max_depth': [3],\n",
    " 'regressor__max_features': [None],\n",
    " 'regressor__max_leaf_nodes': [None],\n",
    " 'regressor__min_impurity_decrease': [0.0],\n",
    " 'regressor__min_samples_leaf': [1],\n",
    " 'regressor__min_samples_split': [2],\n",
    " 'regressor__min_weight_fraction_leaf': [0.0],\n",
    " 'regressor__n_estimators': [100],\n",
    " 'regressor__n_iter_no_change': [None],\n",
    " 'regressor__random_state': [None],\n",
    " 'regressor__subsample': [1.0],\n",
    " 'regressor__tol': [0.0001, 0.001],\n",
    " 'regressor__validation_fraction':[ 0.1],\n",
    " 'regressor__warm_start': [False]\n",
    "}\n",
    "\n",
    "# 'regressor__n_estimators': [100], #### AS HIGH AS POSSIBLE\n",
    "\n",
    "\n",
    "grid = GridSearchCV(pipe_rf, pipe_param_grid, cv=3 ,\n",
    "                    verbose = 50 , n_jobs=-1)\n",
    "\n",
    "grid.fit(X_train, y_train)\n",
    "\n",
    "print('\\nBest Accuracy Score : %.4f'%grid.best_score_, '\\nBast Params: ', str(grid.best_params_))"
   ]
  },
  {
   "cell_type": "code",
   "execution_count": null,
   "metadata": {},
   "outputs": [],
   "source": []
  },
  {
   "cell_type": "code",
   "execution_count": 26,
   "metadata": {},
   "outputs": [
    {
     "name": "stdout",
     "output_type": "stream",
     "text": [
      "              precision    recall  f1-score   support\n",
      "\n",
      "           0       0.82      0.81      0.81     29950\n",
      "           1       0.84      0.85      0.85     36115\n",
      "\n",
      "    accuracy                           0.83     66065\n",
      "   macro avg       0.83      0.83      0.83     66065\n",
      "weighted avg       0.83      0.83      0.83     66065\n",
      "\n"
     ]
    },
    {
     "data": {
      "image/png": "[encoded data removed]",
      "text/plain": [
       "<Figure size 800x500 with 2 Axes>"
      ]
     },
     "metadata": {},
     "output_type": "display_data"
    }
   ],
   "source": [
    "y_pred_train = grid.predict(X_train)\n",
    "\n",
    "metrics_score(y_train, y_pred_train)"
   ]
  },
  {
   "cell_type": "code",
   "execution_count": null,
   "metadata": {},
   "outputs": [],
   "source": []
  },
  {
   "cell_type": "code",
   "execution_count": null,
   "metadata": {},
   "outputs": [],
   "source": []
  },
  {
   "attachments": {},
   "cell_type": "markdown",
   "metadata": {},
   "source": [
    "a"
   ]
  }
 ],
 "metadata": {
  "kernelspec": {
   "display_name": "Python 3 (ipykernel)",
   "language": "python",
   "name": "python3"
  },
  "language_info": {
   "codemirror_mode": {
    "name": "ipython",
    "version": 3
   },
   "file_extension": ".py",
   "mimetype": "text/x-python",
   "name": "python",
   "nbconvert_exporter": "python",
   "pygments_lexer": "ipython3",
   "version": "3.9.13"
  }
 },
 "nbformat": 4,
 "nbformat_minor": 2
}
