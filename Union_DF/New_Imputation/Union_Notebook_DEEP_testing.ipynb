{
 "cells": [
  {
   "attachments": {},
   "cell_type": "markdown",
   "metadata": {},
   "source": [
    "# Here there is Only the Cleaning of the Model"
   ]
  },
  {
   "cell_type": "code",
   "execution_count": 274,
   "metadata": {},
   "outputs": [],
   "source": [
    "# Importing the basic libraries we will require for the project\n",
    "\n",
    "# Libraries to help with reading and manipulating data\n",
    "import pandas as pd\n",
    "import numpy as np\n",
    "\n",
    "# Libaries to help with data visualization\n",
    "import matplotlib.pyplot as plt\n",
    "import seaborn as sns\n",
    "sns.set()\n",
    "\n",
    "# Importing the Machine Learning models we require from Scikit-Learn\n",
    "from sklearn.linear_model import LogisticRegression\n",
    "from sklearn.svm import SVC\n",
    "from sklearn.tree import DecisionTreeClassifier\n",
    "from sklearn import tree\n",
    "from sklearn.ensemble import RandomForestClassifier\n",
    "from sklearn.ensemble import GradientBoostingClassifier\n",
    "\n",
    "\n",
    "# Importing the other functions we may require from Scikit-Learn\n",
    "from sklearn.model_selection import train_test_split, GridSearchCV\n",
    "from sklearn.preprocessing import MinMaxScaler, LabelEncoder, OneHotEncoder\n",
    "from sklearn.preprocessing import StandardScaler\n",
    "\n",
    "# To get diferent metric scores\n",
    "from sklearn.metrics import confusion_matrix,classification_report,roc_auc_score,plot_confusion_matrix,precision_recall_curve,roc_curve,make_scorer\n",
    "\n",
    "# Code to ignore warnings from function usage\n",
    "import warnings;\n",
    "import numpy as np\n",
    "warnings.filterwarnings('ignore')\n",
    "\n",
    "from sklearn.impute import SimpleImputer\n",
    "\n",
    "from sklearn.compose import ColumnTransformer\n",
    "from sklearn.pipeline import Pipeline\n",
    "\n",
    "from sklearn.impute import KNNImputer\n",
    "\n",
    "\n",
    "from sklearn.experimental import enable_iterative_imputer\n",
    "from sklearn.impute import IterativeImputer\n",
    "\n",
    "\n",
    "\n",
    "import tensorflow as tf\n",
    "from tensorflow.keras.models import Sequential\n",
    "from tensorflow.keras.layers import Dense, Dropout, Activation"
   ]
  },
  {
   "cell_type": "code",
   "execution_count": null,
   "metadata": {},
   "outputs": [],
   "source": []
  },
  {
   "cell_type": "code",
   "execution_count": 275,
   "metadata": {},
   "outputs": [
    {
     "data": {
      "text/plain": [
       "(35602, 24)"
      ]
     },
     "execution_count": 275,
     "metadata": {},
     "output_type": "execute_result"
    }
   ],
   "source": [
    "df1_test = pd.read_csv('Surveydata_test_cleaned_v2.csv')\n",
    "df2_test = pd.read_csv('Traveldata_test_cleaned_v2.csv')\n",
    "\n",
    "df_union_test = pd.merge(df1_test, df2_test, on = 'ID')\n",
    "del df_union_test['Unnamed: 0_x']\n",
    "del df_union_test['Unnamed: 0_y']\n",
    "\n",
    "df_union_test.shape\n",
    "\n"
   ]
  },
  {
   "cell_type": "code",
   "execution_count": 276,
   "metadata": {},
   "outputs": [
    {
     "data": {
      "text/plain": [
       "(94379, 25)"
      ]
     },
     "execution_count": 276,
     "metadata": {},
     "output_type": "execute_result"
    }
   ],
   "source": [
    "df1_train = pd.read_csv('Surveydata_train_cleaned_v2.csv')\n",
    "df2_train = pd.read_csv('Traveldata_train_cleaned_v2.csv')\n",
    "\n",
    "df_union_train = pd.merge(df1_train, df2_train, on = 'ID')\n",
    "del df_union_train['Unnamed: 0_x']\n",
    "del df_union_train['Unnamed: 0_y']\n",
    "\n",
    "df_union_train.shape"
   ]
  },
  {
   "cell_type": "code",
   "execution_count": 277,
   "metadata": {},
   "outputs": [],
   "source": [
    "def accuracy(y_train_test, y_pred_train_test):\n",
    "    cm = confusion_matrix(y_train_test, y_pred_train_test)\n",
    "    tot = sum(sum(cm))\n",
    "    zero = cm[0][0]\n",
    "    one = cm[1][1]\n",
    "\n",
    "    accuracy = (one + zero)/tot\n",
    "    return accuracy"
   ]
  },
  {
   "cell_type": "code",
   "execution_count": 278,
   "metadata": {},
   "outputs": [
    {
     "data": {
      "text/plain": [
       "(94379, 23)"
      ]
     },
     "execution_count": 278,
     "metadata": {},
     "output_type": "execute_result"
    }
   ],
   "source": [
    "X_train = df_union_train.drop(['ID',\"Overall_Experience\"], axis=1) # keep it as a Matrix\n",
    "y_train = df_union_train[\"Overall_Experience\"]  # keep it as an array\n",
    "\n",
    "X_train.shape"
   ]
  },
  {
   "cell_type": "code",
   "execution_count": 279,
   "metadata": {},
   "outputs": [
    {
     "data": {
      "text/plain": [
       "(35602, 23)"
      ]
     },
     "execution_count": 279,
     "metadata": {},
     "output_type": "execute_result"
    }
   ],
   "source": [
    "X_test = df_union_test.drop(['ID'], axis=1) # keep it as a Matrix\n",
    "\n",
    "X_test.shape"
   ]
  },
  {
   "attachments": {},
   "cell_type": "markdown",
   "metadata": {},
   "source": [
    "# deep learning"
   ]
  },
  {
   "cell_type": "code",
   "execution_count": 315,
   "metadata": {},
   "outputs": [],
   "source": [
    "# Fixing the seed for random number generators\n",
    "np.random.seed(5)\n",
    "\n",
    "import random\n",
    "random.seed(5)\n",
    "\n",
    "tf.random.set_seed(5)"
   ]
  },
  {
   "cell_type": "code",
   "execution_count": 316,
   "metadata": {},
   "outputs": [],
   "source": [
    "# We will be adding the layers sequentially\n",
    "model_1 = Sequential()\n",
    "\n",
    "# First hidden layer with 128 neurons and relu activation function, the input shape tuple denotes number of independent variables\n",
    "model_1.add(Dense(128, activation='relu', input_shape=(23,)))\n",
    "\n",
    "# We will be switching 20% of neurons off randomly at each iteration to avoid overfitting\n",
    "model_1.add(Dropout(0.3))\n",
    "\n",
    "# Third hidden layer with 64 neurons and relu activation function\n",
    "model_1.add(Dense(64, activation='tanh')) #'tanh\n",
    "\n",
    "# We will be switching 20% of neurons off randomly at each iteration to avoid overfitting\n",
    "model_1.add(Dropout(0.2))\n",
    "\n",
    "# Third hidden layer with 64 neurons and relu activation function\n",
    "model_1.add(Dense(32, activation='tanh'))\n",
    "\n",
    "# We will be switching 10% of neurons off randomly at each iteration to avoid overfitting\n",
    "model_1.add(Dropout(0.1))\n",
    "\n",
    "\n",
    "# Output layer with only one neuron and sigmoid as activation function will give the probability of students getting admitted into UCLA  \n",
    "model_1.add(Dense(1, activation='sigmoid'))"
   ]
  },
  {
   "cell_type": "code",
   "execution_count": 317,
   "metadata": {},
   "outputs": [
    {
     "name": "stdout",
     "output_type": "stream",
     "text": [
      "Model: \"sequential_40\"\n",
      "_________________________________________________________________\n",
      " Layer (type)                Output Shape              Param #   \n",
      "=================================================================\n",
      " dense_160 (Dense)           (None, 128)               3072      \n",
      "                                                                 \n",
      " dropout_120 (Dropout)       (None, 128)               0         \n",
      "                                                                 \n",
      " dense_161 (Dense)           (None, 64)                8256      \n",
      "                                                                 \n",
      " dropout_121 (Dropout)       (None, 64)                0         \n",
      "                                                                 \n",
      " dense_162 (Dense)           (None, 32)                2080      \n",
      "                                                                 \n",
      " dropout_122 (Dropout)       (None, 32)                0         \n",
      "                                                                 \n",
      " dense_163 (Dense)           (None, 1)                 33        \n",
      "                                                                 \n",
      "=================================================================\n",
      "Total params: 13,441\n",
      "Trainable params: 13,441\n",
      "Non-trainable params: 0\n",
      "_________________________________________________________________\n"
     ]
    }
   ],
   "source": [
    "#model_1.compile(loss = 'binary_crossentropy', optimizer='adamax', metrics=['accuracy'])\n",
    "model_1.compile(loss = 'binary_focal_crossentropy', optimizer=tf.keras.optimizers.Adam(learning_rate=0.0005), metrics=['accuracy']) #0.001\n",
    "\n",
    "model_1.summary()"
   ]
  },
  {
   "cell_type": "code",
   "execution_count": null,
   "metadata": {},
   "outputs": [],
   "source": []
  },
  {
   "attachments": {},
   "cell_type": "markdown",
   "metadata": {},
   "source": [
    " SPLIT"
   ]
  },
  {
   "cell_type": "code",
   "execution_count": 283,
   "metadata": {},
   "outputs": [],
   "source": [
    "X_train_train ,X_train_test , y_train_train, y_train_test = train_test_split(X_train , y_train, test_size=0.2, random_state=5, stratify= y_train)"
   ]
  },
  {
   "cell_type": "code",
   "execution_count": 318,
   "metadata": {},
   "outputs": [],
   "source": [
    "numeric_features_min_max = ['Seat_Comfort', 'Seat_Class', 'Arrival_Time_Convenient', 'Catering','Platform_Location', 'Onboard_Wifi_Service', \n",
    "                            'Onboard_Entertainment','Online_Support', 'Ease_of_Online_Booking', 'Onboard_Service','Legroom', 'Baggage_Handling', \n",
    "                            'CheckIn_Service', 'Cleanliness','Online_Boarding', 'Gender', 'Customer_Type', 'Age', 'Type_Travel','Travel_Class']\n",
    "\n",
    "numeric_features_standard = [   'Travel_Distance', 'Departure_Delay_in_Mins', 'Arrival_Delay_in_Mins']\n",
    "\n",
    "numeric_all = numeric_features_min_max  + numeric_features_standard\n",
    "\n",
    "numeric_transformer = Pipeline(\n",
    "    steps = [ ('scaler1', MinMaxScaler() ) ,('scaler2', StandardScaler() ), ('imputer', KNNImputer(n_neighbors=5) ) ]  #, ('scaler2', StandardScaler() )\n",
    "    # ('imputer', SimpleImputer(strategy='median') ), ADD LATER ON, , ('imputer',  IterativeImputer(random_state=0, initial_strategy='median') ('imputer', KNNImputer(n_neighbors=4) )\n",
    ")\n",
    "\n",
    "# Here the pre-processor step\n",
    "preprocessor = ColumnTransformer(\n",
    "    transformers=[\n",
    "        (\"numeric1\", numeric_transformer, numeric_features_min_max ),\n",
    "        (\"numeric2\", numeric_transformer, numeric_features_standard ),\n",
    "        #(\"numeric3\", numeric_transformer, numeric_all )\n",
    "    ]\n",
    ")\n",
    "\n",
    "# here the Pipeline\n",
    "pipe_rf = Pipeline(\n",
    "    steps = [('preprocessor', preprocessor), ('regressor', RandomForestClassifier(n_estimators = 100, n_jobs=-1) ) ]#n_estimators =1000 5min try 2k\n",
    ")\n",
    "\n",
    "\n",
    "\n",
    "#y_pred_train_train = pipe_rf.predict(X_train_train)\n",
    "\n",
    "#metrics_score(y_train_train, y_pred_train_train)\n"
   ]
  },
  {
   "cell_type": "code",
   "execution_count": 285,
   "metadata": {},
   "outputs": [],
   "source": [
    "X_train_train_normalized = preprocessor.fit_transform(X_train_train)\n",
    "\n",
    "\n",
    "X_train_test_normalized = preprocessor.transform(X_train_test)"
   ]
  },
  {
   "cell_type": "code",
   "execution_count": 313,
   "metadata": {},
   "outputs": [
    {
     "name": "stdout",
     "output_type": "stream",
     "text": [
      "Epoch 1/20\n",
      "1888/1888 - 7s - loss: 0.0281 - accuracy: 0.9535 - val_loss: 0.0290 - val_accuracy: 0.9526 - 7s/epoch - 3ms/step\n",
      "Epoch 2/20\n",
      "1888/1888 - 6s - loss: 0.0281 - accuracy: 0.9529 - val_loss: 0.0293 - val_accuracy: 0.9519 - 6s/epoch - 3ms/step\n",
      "Epoch 3/20\n",
      "1888/1888 - 6s - loss: 0.0285 - accuracy: 0.9526 - val_loss: 0.0291 - val_accuracy: 0.9516 - 6s/epoch - 3ms/step\n",
      "Epoch 4/20\n",
      "1888/1888 - 6s - loss: 0.0279 - accuracy: 0.9531 - val_loss: 0.0289 - val_accuracy: 0.9517 - 6s/epoch - 3ms/step\n",
      "Epoch 5/20\n",
      "1888/1888 - 6s - loss: 0.0279 - accuracy: 0.9530 - val_loss: 0.0290 - val_accuracy: 0.9531 - 6s/epoch - 3ms/step\n",
      "Epoch 6/20\n",
      "1888/1888 - 6s - loss: 0.0281 - accuracy: 0.9533 - val_loss: 0.0289 - val_accuracy: 0.9532 - 6s/epoch - 3ms/step\n",
      "Epoch 7/20\n",
      "1888/1888 - 6s - loss: 0.0280 - accuracy: 0.9544 - val_loss: 0.0291 - val_accuracy: 0.9527 - 6s/epoch - 3ms/step\n",
      "Epoch 8/20\n",
      "1888/1888 - 6s - loss: 0.0275 - accuracy: 0.9532 - val_loss: 0.0288 - val_accuracy: 0.9540 - 6s/epoch - 3ms/step\n",
      "Epoch 9/20\n",
      "1888/1888 - 6s - loss: 0.0273 - accuracy: 0.9545 - val_loss: 0.0287 - val_accuracy: 0.9517 - 6s/epoch - 3ms/step\n",
      "Epoch 10/20\n",
      "1888/1888 - 6s - loss: 0.0280 - accuracy: 0.9528 - val_loss: 0.0287 - val_accuracy: 0.9527 - 6s/epoch - 3ms/step\n",
      "Epoch 11/20\n",
      "1888/1888 - 6s - loss: 0.0277 - accuracy: 0.9542 - val_loss: 0.0282 - val_accuracy: 0.9529 - 6s/epoch - 3ms/step\n",
      "Epoch 12/20\n",
      "1888/1888 - 6s - loss: 0.0281 - accuracy: 0.9527 - val_loss: 0.0291 - val_accuracy: 0.9535 - 6s/epoch - 3ms/step\n",
      "Epoch 13/20\n",
      "1888/1888 - 6s - loss: 0.0275 - accuracy: 0.9547 - val_loss: 0.0293 - val_accuracy: 0.9521 - 6s/epoch - 3ms/step\n",
      "Epoch 14/20\n",
      "1888/1888 - 6s - loss: 0.0272 - accuracy: 0.9551 - val_loss: 0.0287 - val_accuracy: 0.9512 - 6s/epoch - 3ms/step\n",
      "Epoch 15/20\n",
      "1888/1888 - 6s - loss: 0.0273 - accuracy: 0.9540 - val_loss: 0.0285 - val_accuracy: 0.9529 - 6s/epoch - 3ms/step\n",
      "Epoch 16/20\n",
      "1888/1888 - 7s - loss: 0.0275 - accuracy: 0.9540 - val_loss: 0.0283 - val_accuracy: 0.9529 - 7s/epoch - 4ms/step\n",
      "Epoch 17/20\n",
      "1888/1888 - 6s - loss: 0.0274 - accuracy: 0.9543 - val_loss: 0.0288 - val_accuracy: 0.9517 - 6s/epoch - 3ms/step\n",
      "Epoch 18/20\n",
      "1888/1888 - 6s - loss: 0.0271 - accuracy: 0.9554 - val_loss: 0.0286 - val_accuracy: 0.9534 - 6s/epoch - 3ms/step\n",
      "Epoch 19/20\n",
      "1888/1888 - 6s - loss: 0.0272 - accuracy: 0.9544 - val_loss: 0.0287 - val_accuracy: 0.9529 - 6s/epoch - 3ms/step\n",
      "Epoch 20/20\n",
      "1888/1888 - 6s - loss: 0.0273 - accuracy: 0.9547 - val_loss: 0.0291 - val_accuracy: 0.9529 - 6s/epoch - 3ms/step\n"
     ]
    }
   ],
   "source": [
    "history_1 = model_1.fit(X_train_train_normalized, \n",
    "                    y_train_train,\n",
    "                    validation_split=0.2, \n",
    "                    epochs=20, #150 \n",
    "                    verbose=2)"
   ]
  },
  {
   "cell_type": "code",
   "execution_count": 314,
   "metadata": {},
   "outputs": [
    {
     "data": {
      "image/png": "[encoded data removed]",
      "text/plain": [
       "<Figure size 640x480 with 1 Axes>"
      ]
     },
     "metadata": {},
     "output_type": "display_data"
    }
   ],
   "source": [
    "plt.plot(history_1.history['accuracy'])\n",
    "plt.plot(history_1.history['val_accuracy'])\n",
    "plt.title('Accuracy vs Epochs')\n",
    "plt.ylabel('Accuracy')\n",
    "plt.xlabel('Epoch')\n",
    "plt.legend(['Train', 'Validation'], loc='lower right')\n",
    "plt.show()"
   ]
  },
  {
   "cell_type": "code",
   "execution_count": null,
   "metadata": {},
   "outputs": [],
   "source": []
  },
  {
   "attachments": {},
   "cell_type": "markdown",
   "metadata": {},
   "source": [
    "# REAL TEST"
   ]
  },
  {
   "cell_type": "code",
   "execution_count": 319,
   "metadata": {},
   "outputs": [],
   "source": [
    "X_train_normalized = preprocessor.fit_transform(X_train)\n",
    "X_test_normalized = preprocessor.transform(X_test)"
   ]
  },
  {
   "cell_type": "code",
   "execution_count": 320,
   "metadata": {},
   "outputs": [
    {
     "name": "stdout",
     "output_type": "stream",
     "text": [
      "Epoch 1/50\n",
      "2655/2655 - 9s - loss: 0.0773 - accuracy: 0.8764 - val_loss: 0.0554 - val_accuracy: 0.9127 - 9s/epoch - 3ms/step\n",
      "Epoch 2/50\n",
      "2655/2655 - 8s - loss: 0.0587 - accuracy: 0.9087 - val_loss: 0.0504 - val_accuracy: 0.9213 - 8s/epoch - 3ms/step\n",
      "Epoch 3/50\n",
      "2655/2655 - 8s - loss: 0.0527 - accuracy: 0.9177 - val_loss: 0.0466 - val_accuracy: 0.9274 - 8s/epoch - 3ms/step\n",
      "Epoch 4/50\n",
      "2655/2655 - 8s - loss: 0.0485 - accuracy: 0.9230 - val_loss: 0.0423 - val_accuracy: 0.9336 - 8s/epoch - 3ms/step\n",
      "Epoch 5/50\n",
      "2655/2655 - 8s - loss: 0.0446 - accuracy: 0.9295 - val_loss: 0.0390 - val_accuracy: 0.9399 - 8s/epoch - 3ms/step\n",
      "Epoch 6/50\n",
      "2655/2655 - 8s - loss: 0.0414 - accuracy: 0.9341 - val_loss: 0.0375 - val_accuracy: 0.9442 - 8s/epoch - 3ms/step\n",
      "Epoch 7/50\n",
      "2655/2655 - 8s - loss: 0.0394 - accuracy: 0.9374 - val_loss: 0.0356 - val_accuracy: 0.9447 - 8s/epoch - 3ms/step\n",
      "Epoch 8/50\n",
      "2655/2655 - 8s - loss: 0.0377 - accuracy: 0.9401 - val_loss: 0.0337 - val_accuracy: 0.9481 - 8s/epoch - 3ms/step\n",
      "Epoch 9/50\n",
      "2655/2655 - 8s - loss: 0.0364 - accuracy: 0.9414 - val_loss: 0.0333 - val_accuracy: 0.9465 - 8s/epoch - 3ms/step\n",
      "Epoch 10/50\n",
      "2655/2655 - 8s - loss: 0.0353 - accuracy: 0.9432 - val_loss: 0.0320 - val_accuracy: 0.9483 - 8s/epoch - 3ms/step\n",
      "Epoch 11/50\n",
      "2655/2655 - 8s - loss: 0.0345 - accuracy: 0.9442 - val_loss: 0.0317 - val_accuracy: 0.9486 - 8s/epoch - 3ms/step\n",
      "Epoch 12/50\n",
      "2655/2655 - 8s - loss: 0.0341 - accuracy: 0.9443 - val_loss: 0.0314 - val_accuracy: 0.9498 - 8s/epoch - 3ms/step\n",
      "Epoch 13/50\n",
      "2655/2655 - 8s - loss: 0.0333 - accuracy: 0.9451 - val_loss: 0.0308 - val_accuracy: 0.9495 - 8s/epoch - 3ms/step\n",
      "Epoch 14/50\n",
      "2655/2655 - 8s - loss: 0.0326 - accuracy: 0.9465 - val_loss: 0.0310 - val_accuracy: 0.9495 - 8s/epoch - 3ms/step\n",
      "Epoch 15/50\n",
      "2655/2655 - 8s - loss: 0.0325 - accuracy: 0.9468 - val_loss: 0.0303 - val_accuracy: 0.9488 - 8s/epoch - 3ms/step\n",
      "Epoch 16/50\n",
      "2655/2655 - 8s - loss: 0.0323 - accuracy: 0.9469 - val_loss: 0.0302 - val_accuracy: 0.9498 - 8s/epoch - 3ms/step\n",
      "Epoch 17/50\n",
      "2655/2655 - 8s - loss: 0.0319 - accuracy: 0.9475 - val_loss: 0.0299 - val_accuracy: 0.9504 - 8s/epoch - 3ms/step\n",
      "Epoch 18/50\n",
      "2655/2655 - 8s - loss: 0.0316 - accuracy: 0.9483 - val_loss: 0.0300 - val_accuracy: 0.9519 - 8s/epoch - 3ms/step\n",
      "Epoch 19/50\n",
      "2655/2655 - 8s - loss: 0.0314 - accuracy: 0.9488 - val_loss: 0.0301 - val_accuracy: 0.9506 - 8s/epoch - 3ms/step\n",
      "Epoch 20/50\n",
      "2655/2655 - 9s - loss: 0.0312 - accuracy: 0.9487 - val_loss: 0.0296 - val_accuracy: 0.9522 - 9s/epoch - 3ms/step\n",
      "Epoch 21/50\n",
      "2655/2655 - 10s - loss: 0.0307 - accuracy: 0.9502 - val_loss: 0.0297 - val_accuracy: 0.9502 - 10s/epoch - 4ms/step\n",
      "Epoch 22/50\n",
      "2655/2655 - 8s - loss: 0.0306 - accuracy: 0.9498 - val_loss: 0.0292 - val_accuracy: 0.9514 - 8s/epoch - 3ms/step\n",
      "Epoch 23/50\n",
      "2655/2655 - 8s - loss: 0.0305 - accuracy: 0.9502 - val_loss: 0.0292 - val_accuracy: 0.9520 - 8s/epoch - 3ms/step\n",
      "Epoch 24/50\n",
      "2655/2655 - 8s - loss: 0.0305 - accuracy: 0.9500 - val_loss: 0.0289 - val_accuracy: 0.9515 - 8s/epoch - 3ms/step\n",
      "Epoch 25/50\n",
      "2655/2655 - 8s - loss: 0.0301 - accuracy: 0.9510 - val_loss: 0.0290 - val_accuracy: 0.9532 - 8s/epoch - 3ms/step\n",
      "Epoch 26/50\n",
      "2655/2655 - 9s - loss: 0.0303 - accuracy: 0.9504 - val_loss: 0.0288 - val_accuracy: 0.9510 - 9s/epoch - 3ms/step\n",
      "Epoch 27/50\n",
      "2655/2655 - 8s - loss: 0.0299 - accuracy: 0.9518 - val_loss: 0.0290 - val_accuracy: 0.9526 - 8s/epoch - 3ms/step\n",
      "Epoch 28/50\n",
      "2655/2655 - 8s - loss: 0.0297 - accuracy: 0.9504 - val_loss: 0.0298 - val_accuracy: 0.9517 - 8s/epoch - 3ms/step\n",
      "Epoch 29/50\n",
      "2655/2655 - 8s - loss: 0.0298 - accuracy: 0.9508 - val_loss: 0.0290 - val_accuracy: 0.9523 - 8s/epoch - 3ms/step\n",
      "Epoch 30/50\n",
      "2655/2655 - 8s - loss: 0.0296 - accuracy: 0.9513 - val_loss: 0.0292 - val_accuracy: 0.9514 - 8s/epoch - 3ms/step\n",
      "Epoch 31/50\n",
      "2655/2655 - 9s - loss: 0.0294 - accuracy: 0.9516 - val_loss: 0.0286 - val_accuracy: 0.9526 - 9s/epoch - 3ms/step\n",
      "Epoch 32/50\n"
     ]
    }
   ],
   "source": [
    "history_1 = model_1.fit(X_train_normalized, \n",
    "                    y_train,\n",
    "                    validation_split=0.1, \n",
    "                    epochs= 50, #150 \n",
    "                    verbose=2)"
   ]
  },
  {
   "cell_type": "code",
   "execution_count": null,
   "metadata": {},
   "outputs": [
    {
     "data": {
      "image/png": "[encoded data removed]",
      "text/plain": [
       "<Figure size 640x480 with 1 Axes>"
      ]
     },
     "metadata": {},
     "output_type": "display_data"
    }
   ],
   "source": [
    "plt.plot(history_1.history['accuracy'])\n",
    "plt.plot(history_1.history['val_accuracy'])\n",
    "plt.title('Accuracy vs Epochs')\n",
    "plt.ylabel('Accuracy')\n",
    "plt.xlabel('Epoch')\n",
    "plt.legend(['Train', 'Validation'], loc='lower right')\n",
    "plt.show()"
   ]
  },
  {
   "cell_type": "code",
   "execution_count": null,
   "metadata": {},
   "outputs": [],
   "source": []
  },
  {
   "cell_type": "code",
   "execution_count": 250,
   "metadata": {},
   "outputs": [
    {
     "name": "stdout",
     "output_type": "stream",
     "text": [
      "2950/2950 [==============================] - 4s 1ms/step - loss: 0.0866 - accuracy: 0.9621\n",
      "2950/2950 [==============================] - 3s 972us/step\n"
     ]
    }
   ],
   "source": [
    "model_1.evaluate(X_train_normalized, y_train, verbose = 1)\n",
    "test_pred = np.round(model_1.predict(X_train_normalized))"
   ]
  },
  {
   "cell_type": "code",
   "execution_count": 244,
   "metadata": {},
   "outputs": [
    {
     "data": {
      "text/plain": [
       "0.962237362125049"
      ]
     },
     "execution_count": 244,
     "metadata": {},
     "output_type": "execute_result"
    }
   ],
   "source": [
    "right = 0\n",
    "tot = 0\n",
    "for i in range(len(y_train)):\n",
    "    tot +=1\n",
    "    if y_train.iloc[i] == int(test_pred.flatten()[i]):\n",
    "        right +=1\n",
    "\n",
    "right/tot"
   ]
  },
  {
   "cell_type": "code",
   "execution_count": 245,
   "metadata": {},
   "outputs": [
    {
     "name": "stdout",
     "output_type": "stream",
     "text": [
      "1113/1113 [==============================] - 1s 1ms/step\n"
     ]
    },
    {
     "data": {
      "text/plain": [
       "35602"
      ]
     },
     "execution_count": 245,
     "metadata": {},
     "output_type": "execute_result"
    }
   ],
   "source": [
    "test_pred = np.round(model_1.predict(X_test_normalized))\n",
    "len(test_pred.flatten())"
   ]
  },
  {
   "cell_type": "code",
   "execution_count": 246,
   "metadata": {},
   "outputs": [
    {
     "data": {
      "text/html": [
       "<div>\n",
       "<style scoped>\n",
       "    .dataframe tbody tr th:only-of-type {\n",
       "        vertical-align: middle;\n",
       "    }\n",
       "\n",
       "    .dataframe tbody tr th {\n",
       "        vertical-align: top;\n",
       "    }\n",
       "\n",
       "    .dataframe thead th {\n",
       "        text-align: right;\n",
       "    }\n",
       "</style>\n",
       "<table border=\"1\" class=\"dataframe\">\n",
       "  <thead>\n",
       "    <tr style=\"text-align: right;\">\n",
       "      <th></th>\n",
       "      <th>ID</th>\n",
       "      <th>Overall_Experience</th>\n",
       "    </tr>\n",
       "  </thead>\n",
       "  <tbody>\n",
       "    <tr>\n",
       "      <th>0</th>\n",
       "      <td>99900001</td>\n",
       "      <td>1.0</td>\n",
       "    </tr>\n",
       "    <tr>\n",
       "      <th>1</th>\n",
       "      <td>99900002</td>\n",
       "      <td>1.0</td>\n",
       "    </tr>\n",
       "    <tr>\n",
       "      <th>2</th>\n",
       "      <td>99900003</td>\n",
       "      <td>1.0</td>\n",
       "    </tr>\n",
       "    <tr>\n",
       "      <th>3</th>\n",
       "      <td>99900004</td>\n",
       "      <td>0.0</td>\n",
       "    </tr>\n",
       "    <tr>\n",
       "      <th>4</th>\n",
       "      <td>99900005</td>\n",
       "      <td>1.0</td>\n",
       "    </tr>\n",
       "  </tbody>\n",
       "</table>\n",
       "</div>"
      ],
      "text/plain": [
       "         ID  Overall_Experience\n",
       "0  99900001                 1.0\n",
       "1  99900002                 1.0\n",
       "2  99900003                 1.0\n",
       "3  99900004                 0.0\n",
       "4  99900005                 1.0"
      ]
     },
     "execution_count": 246,
     "metadata": {},
     "output_type": "execute_result"
    }
   ],
   "source": [
    "df_DL_test = df_union_test.copy()[['ID', 'Seat_Comfort' ]]\n",
    "df_DL_test.rename(columns = {'Seat_Comfort' : 'Overall_Experience'}, inplace=True)\n",
    "df_DL_test['Overall_Experience'] = test_pred.flatten()\n",
    "df_DL_test.head()"
   ]
  },
  {
   "cell_type": "code",
   "execution_count": 247,
   "metadata": {},
   "outputs": [],
   "source": [
    "df_DL_test.to_csv('DL_Adam_test.csv', index=None)"
   ]
  },
  {
   "cell_type": "code",
   "execution_count": null,
   "metadata": {},
   "outputs": [],
   "source": []
  }
 ],
 "metadata": {
  "kernelspec": {
   "display_name": "Python 3 (ipykernel)",
   "language": "python",
   "name": "python3"
  },
  "language_info": {
   "codemirror_mode": {
    "name": "ipython",
    "version": 3
   },
   "file_extension": ".py",
   "mimetype": "text/x-python",
   "name": "python",
   "nbconvert_exporter": "python",
   "pygments_lexer": "ipython3",
   "version": "3.9.13"
  }
 },
 "nbformat": 4,
 "nbformat_minor": 2
}
