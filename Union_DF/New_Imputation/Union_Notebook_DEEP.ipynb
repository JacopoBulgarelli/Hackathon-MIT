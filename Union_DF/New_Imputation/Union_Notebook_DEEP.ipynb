{
 "cells": [
  {
   "attachments": {},
   "cell_type": "markdown",
   "metadata": {},
   "source": [
    "# Here there is Only the Cleaning of the Model"
   ]
  },
  {
   "cell_type": "code",
   "execution_count": 283,
   "metadata": {},
   "outputs": [],
   "source": [
    "# Importing the basic libraries we will require for the project\n",
    "\n",
    "# Libraries to help with reading and manipulating data\n",
    "import pandas as pd\n",
    "import numpy as np\n",
    "\n",
    "# Libaries to help with data visualization\n",
    "import matplotlib.pyplot as plt\n",
    "import seaborn as sns\n",
    "sns.set()\n",
    "\n",
    "# Importing the Machine Learning models we require from Scikit-Learn\n",
    "from sklearn.linear_model import LogisticRegression\n",
    "from sklearn.svm import SVC\n",
    "from sklearn.tree import DecisionTreeClassifier\n",
    "from sklearn import tree\n",
    "from sklearn.ensemble import RandomForestClassifier\n",
    "from sklearn.ensemble import GradientBoostingClassifier\n",
    "\n",
    "\n",
    "# Importing the other functions we may require from Scikit-Learn\n",
    "from sklearn.model_selection import train_test_split, GridSearchCV\n",
    "from sklearn.preprocessing import MinMaxScaler, LabelEncoder, OneHotEncoder\n",
    "from sklearn.preprocessing import StandardScaler\n",
    "\n",
    "# To get diferent metric scores\n",
    "from sklearn.metrics import confusion_matrix,classification_report,roc_auc_score,plot_confusion_matrix,precision_recall_curve,roc_curve,make_scorer\n",
    "\n",
    "# Code to ignore warnings from function usage\n",
    "import warnings;\n",
    "import numpy as np\n",
    "warnings.filterwarnings('ignore')\n",
    "\n",
    "from sklearn.impute import SimpleImputer\n",
    "\n",
    "from sklearn.compose import ColumnTransformer\n",
    "from sklearn.pipeline import Pipeline\n",
    "\n",
    "from sklearn.impute import KNNImputer\n",
    "\n",
    "\n",
    "from sklearn.experimental import enable_iterative_imputer\n",
    "from sklearn.impute import IterativeImputer\n",
    "\n",
    "\n",
    "\n",
    "import tensorflow as tf\n",
    "from tensorflow.keras.models import Sequential\n",
    "from tensorflow.keras.layers import Dense, Dropout, Activation"
   ]
  },
  {
   "cell_type": "code",
   "execution_count": null,
   "metadata": {},
   "outputs": [],
   "source": []
  },
  {
   "cell_type": "code",
   "execution_count": 284,
   "metadata": {},
   "outputs": [
    {
     "data": {
      "text/plain": [
       "(35602, 24)"
      ]
     },
     "execution_count": 284,
     "metadata": {},
     "output_type": "execute_result"
    }
   ],
   "source": [
    "df1_test = pd.read_csv('Surveydata_test_cleaned_v2.csv')\n",
    "df2_test = pd.read_csv('Traveldata_test_cleaned_v2.csv')\n",
    "\n",
    "df_union_test = pd.merge(df1_test, df2_test, on = 'ID')\n",
    "del df_union_test['Unnamed: 0_x']\n",
    "del df_union_test['Unnamed: 0_y']\n",
    "\n",
    "df_union_test.shape\n",
    "\n"
   ]
  },
  {
   "cell_type": "code",
   "execution_count": 285,
   "metadata": {},
   "outputs": [
    {
     "data": {
      "text/plain": [
       "(94379, 25)"
      ]
     },
     "execution_count": 285,
     "metadata": {},
     "output_type": "execute_result"
    }
   ],
   "source": [
    "df1_train = pd.read_csv('Surveydata_train_cleaned_v2.csv')\n",
    "df2_train = pd.read_csv('Traveldata_train_cleaned_v2.csv')\n",
    "\n",
    "df_union_train = pd.merge(df1_train, df2_train, on = 'ID')\n",
    "del df_union_train['Unnamed: 0_x']\n",
    "del df_union_train['Unnamed: 0_y']\n",
    "\n",
    "df_union_train.shape"
   ]
  },
  {
   "cell_type": "code",
   "execution_count": 286,
   "metadata": {},
   "outputs": [],
   "source": [
    "def accuracy(y_train_test, y_pred_train_test):\n",
    "    cm = confusion_matrix(y_train_test, y_pred_train_test)\n",
    "    tot = sum(sum(cm))\n",
    "    zero = cm[0][0]\n",
    "    one = cm[1][1]\n",
    "\n",
    "    accuracy = (one + zero)/tot\n",
    "    return accuracy"
   ]
  },
  {
   "cell_type": "code",
   "execution_count": 287,
   "metadata": {},
   "outputs": [
    {
     "data": {
      "text/plain": [
       "(94379, 23)"
      ]
     },
     "execution_count": 287,
     "metadata": {},
     "output_type": "execute_result"
    }
   ],
   "source": [
    "X_train = df_union_train.drop(['ID',\"Overall_Experience\"], axis=1) # keep it as a Matrix\n",
    "y_train = df_union_train[\"Overall_Experience\"]  # keep it as an array\n",
    "\n",
    "X_train.shape"
   ]
  },
  {
   "cell_type": "code",
   "execution_count": 288,
   "metadata": {},
   "outputs": [
    {
     "data": {
      "text/plain": [
       "(35602, 23)"
      ]
     },
     "execution_count": 288,
     "metadata": {},
     "output_type": "execute_result"
    }
   ],
   "source": [
    "X_test = df_union_test.drop(['ID'], axis=1) # keep it as a Matrix\n",
    "\n",
    "X_test.shape"
   ]
  },
  {
   "attachments": {},
   "cell_type": "markdown",
   "metadata": {},
   "source": [
    "# deep learning"
   ]
  },
  {
   "cell_type": "code",
   "execution_count": 289,
   "metadata": {},
   "outputs": [],
   "source": [
    "# Fixing the seed for random number generators\n",
    "np.random.seed(5)\n",
    "\n",
    "import random\n",
    "random.seed(5)\n",
    "\n",
    "tf.random.set_seed(5)"
   ]
  },
  {
   "cell_type": "code",
   "execution_count": 290,
   "metadata": {},
   "outputs": [],
   "source": [
    "# We will be adding the layers sequentially\n",
    "model_1 = Sequential()\n",
    "\n",
    "# First hidden layer with 128 neurons and relu activation function, the input shape tuple denotes number of independent variables\n",
    "model_1.add(Dense(128, activation='relu', input_shape=(23,)))\n",
    "\n",
    "# We will be switching 20% of neurons off randomly at each iteration to avoid overfitting\n",
    "model_1.add(Dropout(0.3))\n",
    "\n",
    "# Third hidden layer with 64 neurons and relu activation function\n",
    "model_1.add(Dense(64, activation='tanh')) #'tanh\n",
    "\n",
    "# We will be switching 20% of neurons off randomly at each iteration to avoid overfitting\n",
    "model_1.add(Dropout(0.2))\n",
    "\n",
    "# Third hidden layer with 64 neurons and relu activation function\n",
    "model_1.add(Dense(32, activation='relu'))\n",
    "\n",
    "# We will be switching 10% of neurons off randomly at each iteration to avoid overfitting\n",
    "model_1.add(Dropout(0.1))\n",
    "\n",
    "# Output layer with only one neuron and sigmoid as activation function will give the probability of students getting admitted into UCLA  \n",
    "model_1.add(Dense(1, activation='sigmoid'))"
   ]
  },
  {
   "attachments": {},
   "cell_type": "markdown",
   "metadata": {},
   "source": [
    "mnist = tf.keras.datasets.mnist\n",
    "\n",
    "(x_train, y_train), (x_test, y_test) = mnist.load_data()\n",
    "x_train, x_test = x_train / 255.0, x_test / 255.0\n",
    "\n",
    "model = tf.keras.models.Sequential([\n",
    "  tf.keras.layers.Flatten(input_shape=(28, 28)),\n",
    "  tf.keras.layers.Dense(128, activation='relu'),\n",
    "  tf.keras.layers.Dropout(0.2),\n",
    "  tf.keras.layers.Dense(10, activation='softmax') 'tanh'\n",
    "])\n",
    "\n",
    "model.compile(optimizer='adam',\n",
    "              loss='sparse_categorical_crossentropy',\n",
    "              metrics=['accuracy'])\n",
    "\n",
    "model.fit(x_train, y_train, callbacks=[LearningRateReducerCb()], epochs=5)\n",
    "\n",
    "model.evaluate(x_test, y_test)"
   ]
  },
  {
   "cell_type": "code",
   "execution_count": 291,
   "metadata": {},
   "outputs": [
    {
     "name": "stdout",
     "output_type": "stream",
     "text": [
      "Model: \"sequential_22\"\n",
      "_________________________________________________________________\n",
      " Layer (type)                Output Shape              Param #   \n",
      "=================================================================\n",
      " dense_85 (Dense)            (None, 128)               3072      \n",
      "                                                                 \n",
      " dropout_62 (Dropout)        (None, 128)               0         \n",
      "                                                                 \n",
      " dense_86 (Dense)            (None, 64)                8256      \n",
      "                                                                 \n",
      " dropout_63 (Dropout)        (None, 64)                0         \n",
      "                                                                 \n",
      " dense_87 (Dense)            (None, 32)                2080      \n",
      "                                                                 \n",
      " dropout_64 (Dropout)        (None, 32)                0         \n",
      "                                                                 \n",
      " dense_88 (Dense)            (None, 1)                 33        \n",
      "                                                                 \n",
      "=================================================================\n",
      "Total params: 13,441\n",
      "Trainable params: 13,441\n",
      "Non-trainable params: 0\n",
      "_________________________________________________________________\n"
     ]
    }
   ],
   "source": [
    "#model_1.compile(loss = 'binary_crossentropy', optimizer='adamax', metrics=['accuracy'])\n",
    "model_1.compile(loss = 'binary_crossentropy', optimizer=tf.keras.optimizers.Adam(learning_rate=0.00075), metrics=['accuracy']) #0.001\n",
    "\n",
    "\n",
    "model_1.summary()"
   ]
  },
  {
   "cell_type": "code",
   "execution_count": null,
   "metadata": {},
   "outputs": [],
   "source": []
  },
  {
   "attachments": {},
   "cell_type": "markdown",
   "metadata": {},
   "source": [
    " SPLIT"
   ]
  },
  {
   "cell_type": "code",
   "execution_count": 292,
   "metadata": {},
   "outputs": [],
   "source": [
    "X_train_train ,X_train_test , y_train_train, y_train_test = train_test_split(X_train , y_train, test_size=0.2, random_state=5, stratify= y_train)"
   ]
  },
  {
   "cell_type": "code",
   "execution_count": 293,
   "metadata": {},
   "outputs": [],
   "source": [
    "numeric_features_min_max = ['Seat_Comfort', 'Seat_Class', 'Arrival_Time_Convenient', 'Catering','Platform_Location', 'Onboard_Wifi_Service', \n",
    "                            'Onboard_Entertainment','Online_Support', 'Ease_of_Online_Booking', 'Onboard_Service','Legroom', 'Baggage_Handling', \n",
    "                            'CheckIn_Service', 'Cleanliness','Online_Boarding', 'Gender', 'Customer_Type', 'Age', 'Type_Travel','Travel_Class']\n",
    "\n",
    "numeric_features_standard = [   'Travel_Distance', 'Departure_Delay_in_Mins', 'Arrival_Delay_in_Mins']\n",
    "\n",
    "\n",
    "numeric_transformer = Pipeline(\n",
    "    steps = [ ('scaler1', MinMaxScaler() ), ('scaler2', StandardScaler() ), ('imputer', KNNImputer(n_neighbors=4) ) ] \n",
    "    # ('imputer', SimpleImputer(strategy='median') ), ADD LATER ON, , ('imputer',  IterativeImputer(random_state=0, initial_strategy='median') ('imputer', KNNImputer(n_neighbors=4) )\n",
    ")\n",
    "\n",
    "# Here the pre-processor step\n",
    "preprocessor = ColumnTransformer(\n",
    "    transformers=[\n",
    "        (\"numeric1\", numeric_transformer, numeric_features_min_max ),\n",
    "        (\"numeric2\", numeric_transformer, numeric_features_standard )\n",
    "    ]\n",
    ")\n",
    "\n",
    "# here the Pipeline\n",
    "pipe_rf = Pipeline(\n",
    "    steps = [('preprocessor', preprocessor), ('regressor', RandomForestClassifier(n_estimators = 100, n_jobs=-1) ) ]#n_estimators =1000 5min try 2k\n",
    ")\n",
    "\n",
    "\n",
    "#X_train_train_normalized = preprocessor.fit_transform(X_train_train)\n",
    "\n",
    "#y_pred_train_train = pipe_rf.predict(X_train_train)\n",
    "\n",
    "#metrics_score(y_train_train, y_pred_train_train)\n",
    "\n",
    "\n",
    "\n",
    "#X_train_test_normalized = preprocessor.transform(X_train_test)"
   ]
  },
  {
   "cell_type": "code",
   "execution_count": null,
   "metadata": {},
   "outputs": [],
   "source": []
  },
  {
   "cell_type": "code",
   "execution_count": 170,
   "metadata": {},
   "outputs": [
    {
     "name": "stdout",
     "output_type": "stream",
     "text": [
      "Epoch 1/10\n",
      "1888/1888 - 4s - loss: 0.1201 - accuracy: 0.9520 - val_loss: 0.1245 - val_accuracy: 0.9501 - 4s/epoch - 2ms/step\n",
      "Epoch 2/10\n",
      "1888/1888 - 3s - loss: 0.1227 - accuracy: 0.9505 - val_loss: 0.1247 - val_accuracy: 0.9497 - 3s/epoch - 2ms/step\n",
      "Epoch 3/10\n",
      "1888/1888 - 4s - loss: 0.1224 - accuracy: 0.9514 - val_loss: 0.1247 - val_accuracy: 0.9500 - 4s/epoch - 2ms/step\n",
      "Epoch 4/10\n",
      "1888/1888 - 5s - loss: 0.1219 - accuracy: 0.9510 - val_loss: 0.1249 - val_accuracy: 0.9491 - 5s/epoch - 2ms/step\n",
      "Epoch 5/10\n",
      "1888/1888 - 5s - loss: 0.1234 - accuracy: 0.9499 - val_loss: 0.1258 - val_accuracy: 0.9493 - 5s/epoch - 2ms/step\n",
      "Epoch 6/10\n",
      "1888/1888 - 5s - loss: 0.1209 - accuracy: 0.9507 - val_loss: 0.1247 - val_accuracy: 0.9497 - 5s/epoch - 2ms/step\n",
      "Epoch 7/10\n",
      "1888/1888 - 5s - loss: 0.1235 - accuracy: 0.9503 - val_loss: 0.1260 - val_accuracy: 0.9495 - 5s/epoch - 2ms/step\n",
      "Epoch 8/10\n",
      "1888/1888 - 5s - loss: 0.1213 - accuracy: 0.9502 - val_loss: 0.1235 - val_accuracy: 0.9498 - 5s/epoch - 2ms/step\n",
      "Epoch 9/10\n",
      "1888/1888 - 4s - loss: 0.1210 - accuracy: 0.9506 - val_loss: 0.1261 - val_accuracy: 0.9500 - 4s/epoch - 2ms/step\n",
      "Epoch 10/10\n",
      "1888/1888 - 4s - loss: 0.1228 - accuracy: 0.9509 - val_loss: 0.1241 - val_accuracy: 0.9500 - 4s/epoch - 2ms/step\n"
     ]
    }
   ],
   "source": [
    "history_1 = model_1.fit(X_train_train_normalized, \n",
    "                    y_train_train,\n",
    "                    validation_split=0.2, \n",
    "                    epochs=10, #150 \n",
    "                    verbose=2)"
   ]
  },
  {
   "cell_type": "code",
   "execution_count": 171,
   "metadata": {},
   "outputs": [
    {
     "data": {
      "image/png": "[encoded data removed]",
      "text/plain": [
       "<Figure size 640x480 with 1 Axes>"
      ]
     },
     "metadata": {},
     "output_type": "display_data"
    }
   ],
   "source": [
    "plt.plot(history_1.history['accuracy'])\n",
    "plt.plot(history_1.history['val_accuracy'])\n",
    "plt.title('Accuracy vs Epochs')\n",
    "plt.ylabel('Accuracy')\n",
    "plt.xlabel('Epoch')\n",
    "plt.legend(['Train', 'Validation'], loc='lower right')\n",
    "plt.show()"
   ]
  },
  {
   "cell_type": "code",
   "execution_count": null,
   "metadata": {},
   "outputs": [],
   "source": []
  },
  {
   "cell_type": "code",
   "execution_count": null,
   "metadata": {},
   "outputs": [],
   "source": []
  },
  {
   "cell_type": "code",
   "execution_count": 104,
   "metadata": {},
   "outputs": [
    {
     "name": "stdout",
     "output_type": "stream",
     "text": [
      "885/885 [==============================] - 2s 2ms/step - loss: 0.1120 - accuracy: 0.9531\n",
      "885/885 [==============================] - 2s 2ms/step\n"
     ]
    }
   ],
   "source": [
    "model_1.evaluate(X_train_test_normalized, y_train_test, verbose = 1)\n",
    "test_pred = np.round(model_1.predict(X_train_test_normalized))\n"
   ]
  },
  {
   "cell_type": "code",
   "execution_count": 105,
   "metadata": {},
   "outputs": [],
   "source": [
    "y_train_test \n",
    "right = 0\n",
    "tot = 0\n",
    "for i in range(len(y_train_test)):\n",
    "    tot +=1\n",
    "    if y_train_test.iloc[i] == int(test_pred.flatten()[i]):\n",
    "        right +=1\n",
    "\n",
    "        "
   ]
  },
  {
   "cell_type": "code",
   "execution_count": 106,
   "metadata": {},
   "outputs": [
    {
     "data": {
      "text/plain": [
       "0.9531327258599986"
      ]
     },
     "execution_count": 106,
     "metadata": {},
     "output_type": "execute_result"
    }
   ],
   "source": [
    "right/tot"
   ]
  },
  {
   "cell_type": "code",
   "execution_count": null,
   "metadata": {},
   "outputs": [],
   "source": []
  },
  {
   "attachments": {},
   "cell_type": "markdown",
   "metadata": {},
   "source": [
    "# REAL TEST"
   ]
  },
  {
   "cell_type": "code",
   "execution_count": 294,
   "metadata": {},
   "outputs": [],
   "source": [
    "X_train_normalized = preprocessor.fit_transform(X_train)\n",
    "X_test_normalized = preprocessor.transform(X_test)"
   ]
  },
  {
   "cell_type": "code",
   "execution_count": 302,
   "metadata": {},
   "outputs": [
    {
     "name": "stdout",
     "output_type": "stream",
     "text": [
      "Epoch 1/10\n",
      "2655/2655 - 8s - loss: 0.1008 - accuracy: 0.9560 - val_loss: 0.1047 - val_accuracy: 0.9541 - 8s/epoch - 3ms/step\n",
      "Epoch 2/10\n",
      "2655/2655 - 8s - loss: 0.1012 - accuracy: 0.9562 - val_loss: 0.1033 - val_accuracy: 0.9548 - 8s/epoch - 3ms/step\n",
      "Epoch 3/10\n",
      "2655/2655 - 8s - loss: 0.1010 - accuracy: 0.9565 - val_loss: 0.1031 - val_accuracy: 0.9550 - 8s/epoch - 3ms/step\n",
      "Epoch 4/10\n",
      "2655/2655 - 8s - loss: 0.1009 - accuracy: 0.9557 - val_loss: 0.1019 - val_accuracy: 0.9555 - 8s/epoch - 3ms/step\n",
      "Epoch 5/10\n",
      "2655/2655 - 8s - loss: 0.0995 - accuracy: 0.9562 - val_loss: 0.1013 - val_accuracy: 0.9551 - 8s/epoch - 3ms/step\n",
      "Epoch 6/10\n",
      "2655/2655 - 8s - loss: 0.1001 - accuracy: 0.9555 - val_loss: 0.1038 - val_accuracy: 0.9548 - 8s/epoch - 3ms/step\n",
      "Epoch 7/10\n",
      "2655/2655 - 8s - loss: 0.1002 - accuracy: 0.9560 - val_loss: 0.1042 - val_accuracy: 0.9541 - 8s/epoch - 3ms/step\n",
      "Epoch 8/10\n",
      "2655/2655 - 8s - loss: 0.0999 - accuracy: 0.9565 - val_loss: 0.1055 - val_accuracy: 0.9543 - 8s/epoch - 3ms/step\n",
      "Epoch 9/10\n",
      "2655/2655 - 8s - loss: 0.1003 - accuracy: 0.9559 - val_loss: 0.1031 - val_accuracy: 0.9548 - 8s/epoch - 3ms/step\n",
      "Epoch 10/10\n",
      "2655/2655 - 8s - loss: 0.1002 - accuracy: 0.9566 - val_loss: 0.1049 - val_accuracy: 0.9548 - 8s/epoch - 3ms/step\n"
     ]
    }
   ],
   "source": [
    "history_1 = model_1.fit(X_train_normalized, \n",
    "                    y_train,\n",
    "                    validation_split=0.1, \n",
    "                    epochs= 10, #150 \n",
    "                    verbose=2)"
   ]
  },
  {
   "cell_type": "code",
   "execution_count": 303,
   "metadata": {},
   "outputs": [
    {
     "data": {
      "image/png": "[encoded data removed]",
      "text/plain": [
       "<Figure size 640x480 with 1 Axes>"
      ]
     },
     "metadata": {},
     "output_type": "display_data"
    }
   ],
   "source": [
    "plt.plot(history_1.history['accuracy'])\n",
    "plt.plot(history_1.history['val_accuracy'])\n",
    "plt.title('Accuracy vs Epochs')\n",
    "plt.ylabel('Accuracy')\n",
    "plt.xlabel('Epoch')\n",
    "plt.legend(['Train', 'Validation'], loc='lower right')\n",
    "plt.show()"
   ]
  },
  {
   "cell_type": "code",
   "execution_count": null,
   "metadata": {},
   "outputs": [],
   "source": []
  },
  {
   "cell_type": "code",
   "execution_count": 304,
   "metadata": {},
   "outputs": [
    {
     "name": "stdout",
     "output_type": "stream",
     "text": [
      "2950/2950 [==============================] - 7s 2ms/step - loss: 0.0845 - accuracy: 0.9620\n",
      "2950/2950 [==============================] - 6s 2ms/step\n"
     ]
    }
   ],
   "source": [
    "model_1.evaluate(X_train_normalized, y_train, verbose = 1)\n",
    "test_pred = np.round(model_1.predict(X_train_normalized))"
   ]
  },
  {
   "cell_type": "code",
   "execution_count": 298,
   "metadata": {},
   "outputs": [
    {
     "data": {
      "text/plain": [
       "0.9621314063509891"
      ]
     },
     "execution_count": 298,
     "metadata": {},
     "output_type": "execute_result"
    }
   ],
   "source": [
    "right = 0\n",
    "tot = 0\n",
    "for i in range(len(y_train)):\n",
    "    tot +=1\n",
    "    if y_train.iloc[i] == int(test_pred.flatten()[i]):\n",
    "        right +=1\n",
    "\n",
    "right/tot"
   ]
  },
  {
   "cell_type": "code",
   "execution_count": null,
   "metadata": {},
   "outputs": [],
   "source": []
  },
  {
   "cell_type": "code",
   "execution_count": 299,
   "metadata": {},
   "outputs": [
    {
     "name": "stdout",
     "output_type": "stream",
     "text": [
      "1113/1113 [==============================] - 2s 2ms/step\n"
     ]
    },
    {
     "data": {
      "text/plain": [
       "35602"
      ]
     },
     "execution_count": 299,
     "metadata": {},
     "output_type": "execute_result"
    }
   ],
   "source": [
    "test_pred = np.round(model_1.predict(X_test_normalized))\n",
    "len(test_pred.flatten())"
   ]
  },
  {
   "cell_type": "code",
   "execution_count": 300,
   "metadata": {},
   "outputs": [
    {
     "data": {
      "text/html": [
       "<div>\n",
       "<style scoped>\n",
       "    .dataframe tbody tr th:only-of-type {\n",
       "        vertical-align: middle;\n",
       "    }\n",
       "\n",
       "    .dataframe tbody tr th {\n",
       "        vertical-align: top;\n",
       "    }\n",
       "\n",
       "    .dataframe thead th {\n",
       "        text-align: right;\n",
       "    }\n",
       "</style>\n",
       "<table border=\"1\" class=\"dataframe\">\n",
       "  <thead>\n",
       "    <tr style=\"text-align: right;\">\n",
       "      <th></th>\n",
       "      <th>ID</th>\n",
       "      <th>Overall_Experience</th>\n",
       "    </tr>\n",
       "  </thead>\n",
       "  <tbody>\n",
       "    <tr>\n",
       "      <th>0</th>\n",
       "      <td>99900001</td>\n",
       "      <td>1.0</td>\n",
       "    </tr>\n",
       "    <tr>\n",
       "      <th>1</th>\n",
       "      <td>99900002</td>\n",
       "      <td>1.0</td>\n",
       "    </tr>\n",
       "    <tr>\n",
       "      <th>2</th>\n",
       "      <td>99900003</td>\n",
       "      <td>1.0</td>\n",
       "    </tr>\n",
       "    <tr>\n",
       "      <th>3</th>\n",
       "      <td>99900004</td>\n",
       "      <td>0.0</td>\n",
       "    </tr>\n",
       "    <tr>\n",
       "      <th>4</th>\n",
       "      <td>99900005</td>\n",
       "      <td>1.0</td>\n",
       "    </tr>\n",
       "  </tbody>\n",
       "</table>\n",
       "</div>"
      ],
      "text/plain": [
       "         ID  Overall_Experience\n",
       "0  99900001                 1.0\n",
       "1  99900002                 1.0\n",
       "2  99900003                 1.0\n",
       "3  99900004                 0.0\n",
       "4  99900005                 1.0"
      ]
     },
     "execution_count": 300,
     "metadata": {},
     "output_type": "execute_result"
    }
   ],
   "source": [
    "df_DL_test = df_union_test.copy()[['ID', 'Seat_Comfort' ]]\n",
    "df_DL_test.rename(columns = {'Seat_Comfort' : 'Overall_Experience'}, inplace=True)\n",
    "df_DL_test['Overall_Experience'] = test_pred.flatten()\n",
    "df_DL_test.head()"
   ]
  },
  {
   "cell_type": "code",
   "execution_count": 301,
   "metadata": {},
   "outputs": [],
   "source": [
    "df_DL_test.to_csv('DL_test3.csv', index=None)"
   ]
  },
  {
   "cell_type": "code",
   "execution_count": null,
   "metadata": {},
   "outputs": [],
   "source": []
  },
  {
   "cell_type": "code",
   "execution_count": null,
   "metadata": {},
   "outputs": [],
   "source": []
  },
  {
   "cell_type": "code",
   "execution_count": null,
   "metadata": {},
   "outputs": [],
   "source": []
  },
  {
   "cell_type": "code",
   "execution_count": null,
   "metadata": {},
   "outputs": [],
   "source": []
  },
  {
   "cell_type": "code",
   "execution_count": null,
   "metadata": {},
   "outputs": [],
   "source": []
  },
  {
   "cell_type": "code",
   "execution_count": null,
   "metadata": {},
   "outputs": [],
   "source": []
  },
  {
   "cell_type": "code",
   "execution_count": 36,
   "metadata": {},
   "outputs": [
    {
     "data": {
      "text/plain": [
       "array([1., 0., 0., ..., 0., 0., 0.], dtype=float32)"
      ]
     },
     "execution_count": 36,
     "metadata": {},
     "output_type": "execute_result"
    }
   ],
   "source": [
    "test_pred.flatten()"
   ]
  },
  {
   "cell_type": "code",
   "execution_count": null,
   "metadata": {},
   "outputs": [],
   "source": [
    "model_3.evaluate(X_train_test_normalized, y_test, verbose = 1)\n",
    "test_pred = np.round(model_3.predict(X_test_normalized))"
   ]
  },
  {
   "cell_type": "code",
   "execution_count": null,
   "metadata": {},
   "outputs": [],
   "source": []
  },
  {
   "cell_type": "code",
   "execution_count": null,
   "metadata": {},
   "outputs": [],
   "source": []
  },
  {
   "cell_type": "code",
   "execution_count": 8,
   "metadata": {},
   "outputs": [],
   "source": [
    "numeric_features_min_max = ['Seat_Comfort', 'Seat_Class', 'Arrival_Time_Convenient', 'Catering','Platform_Location', 'Onboard_Wifi_Service', \n",
    "                            'Onboard_Entertainment','Online_Support', 'Ease_of_Online_Booking', 'Onboard_Service','Legroom', 'Baggage_Handling', \n",
    "                            'CheckIn_Service', 'Cleanliness','Online_Boarding', 'Gender', 'Customer_Type', 'Age', 'Type_Travel','Travel_Class']\n",
    "\n",
    "numeric_features_standard = [   'Travel_Distance', 'Departure_Delay_in_Mins', 'Arrival_Delay_in_Mins']\n",
    "\n",
    "\n",
    "numeric_transformer = Pipeline(\n",
    "    steps = [ ('scaler1', MinMaxScaler() ), ('scaler2', StandardScaler() ), ('imputer', KNNImputer(n_neighbors=4) ) ] \n",
    "    # ('imputer', SimpleImputer(strategy='median') ), ADD LATER ON, , ('imputer',  IterativeImputer(random_state=0, initial_strategy='median') ('imputer', KNNImputer(n_neighbors=4) )\n",
    ")\n",
    "\n",
    "# Here the pre-processor step\n",
    "preprocessor = ColumnTransformer(\n",
    "    transformers=[\n",
    "        (\"numeric1\", numeric_transformer, numeric_features_min_max ),\n",
    "        (\"numeric2\", numeric_transformer, numeric_features_standard )\n",
    "    ]\n",
    ")\n",
    "\n",
    "# here the Pipeline\n",
    "pipe_rf = Pipeline(\n",
    "    steps = [('preprocessor', preprocessor), ('regressor', RandomForestClassifier(n_estimators = 100, n_jobs=-1) ) ]#n_estimators =1000 5min try 2k\n",
    ")\n",
    "\n",
    "\n",
    "#pipe_rf.fit(X_train_train, y_train_train)\n",
    "\n",
    "#y_pred_train_train = pipe_rf.predict(X_train_train)\n",
    "\n",
    "#metrics_score(y_train_train, y_pred_train_train)\n"
   ]
  },
  {
   "cell_type": "code",
   "execution_count": null,
   "metadata": {},
   "outputs": [],
   "source": [
    "pipe_rf.fit(X_train_train, y_train_train)\n",
    "\n",
    "y_pred_train_test = pipe_rf.predict(X_train_test)\n",
    "\n",
    "#metrics_score(y_train_test, y_pred_train_test)\n",
    "accuracy(y_train_test, y_pred_train_test)"
   ]
  }
 ],
 "metadata": {
  "kernelspec": {
   "display_name": "Python 3 (ipykernel)",
   "language": "python",
   "name": "python3"
  },
  "language_info": {
   "codemirror_mode": {
    "name": "ipython",
    "version": 3
   },
   "file_extension": ".py",
   "mimetype": "text/x-python",
   "name": "python",
   "nbconvert_exporter": "python",
   "pygments_lexer": "ipython3",
   "version": "3.9.13"
  }
 },
 "nbformat": 4,
 "nbformat_minor": 2
}
