{
 "cells": [
  {
   "attachments": {},
   "cell_type": "markdown",
   "metadata": {},
   "source": [
    "# Here there is Only the Cleaning of the Model"
   ]
  },
  {
   "cell_type": "code",
   "execution_count": 64,
   "metadata": {},
   "outputs": [],
   "source": [
    "# Importing the basic libraries we will require for the project\n",
    "\n",
    "# Libraries to help with reading and manipulating data\n",
    "import pandas as pd\n",
    "import numpy as np\n",
    "\n",
    "# Libaries to help with data visualization\n",
    "import matplotlib.pyplot as plt\n",
    "import seaborn as sns\n",
    "sns.set()\n",
    "\n",
    "\n",
    "# Code to ignore warnings from function usage\n",
    "import warnings;\n",
    "import numpy as np\n",
    "warnings.filterwarnings('ignore')\n",
    "\n",
    "from sklearn.impute import SimpleImputer"
   ]
  },
  {
   "attachments": {},
   "cell_type": "markdown",
   "metadata": {},
   "source": [
    "Load and View the Data Set"
   ]
  },
  {
   "cell_type": "code",
   "execution_count": 65,
   "metadata": {},
   "outputs": [],
   "source": [
    "shin_exp = pd.read_csv('Surveydata_train.csv')"
   ]
  },
  {
   "cell_type": "code",
   "execution_count": 66,
   "metadata": {},
   "outputs": [
    {
     "data": {
      "text/html": [
       "<div>\n",
       "<style scoped>\n",
       "    .dataframe tbody tr th:only-of-type {\n",
       "        vertical-align: middle;\n",
       "    }\n",
       "\n",
       "    .dataframe tbody tr th {\n",
       "        vertical-align: top;\n",
       "    }\n",
       "\n",
       "    .dataframe thead th {\n",
       "        text-align: right;\n",
       "    }\n",
       "</style>\n",
       "<table border=\"1\" class=\"dataframe\">\n",
       "  <thead>\n",
       "    <tr style=\"text-align: right;\">\n",
       "      <th></th>\n",
       "      <th>ID</th>\n",
       "      <th>Overall_Experience</th>\n",
       "      <th>Seat_Comfort</th>\n",
       "      <th>Seat_Class</th>\n",
       "      <th>Arrival_Time_Convenient</th>\n",
       "      <th>Catering</th>\n",
       "      <th>Platform_Location</th>\n",
       "      <th>Onboard_Wifi_Service</th>\n",
       "      <th>Onboard_Entertainment</th>\n",
       "      <th>Online_Support</th>\n",
       "      <th>Ease_of_Online_Booking</th>\n",
       "      <th>Onboard_Service</th>\n",
       "      <th>Legroom</th>\n",
       "      <th>Baggage_Handling</th>\n",
       "      <th>CheckIn_Service</th>\n",
       "      <th>Cleanliness</th>\n",
       "      <th>Online_Boarding</th>\n",
       "    </tr>\n",
       "  </thead>\n",
       "  <tbody>\n",
       "    <tr>\n",
       "      <th>0</th>\n",
       "      <td>98800001</td>\n",
       "      <td>0</td>\n",
       "      <td>Needs Improvement</td>\n",
       "      <td>Green Car</td>\n",
       "      <td>Excellent</td>\n",
       "      <td>Excellent</td>\n",
       "      <td>Very Convenient</td>\n",
       "      <td>Good</td>\n",
       "      <td>Needs Improvement</td>\n",
       "      <td>Acceptable</td>\n",
       "      <td>Needs Improvement</td>\n",
       "      <td>Needs Improvement</td>\n",
       "      <td>Acceptable</td>\n",
       "      <td>Needs Improvement</td>\n",
       "      <td>Good</td>\n",
       "      <td>Needs Improvement</td>\n",
       "      <td>Poor</td>\n",
       "    </tr>\n",
       "    <tr>\n",
       "      <th>1</th>\n",
       "      <td>98800002</td>\n",
       "      <td>0</td>\n",
       "      <td>Poor</td>\n",
       "      <td>Ordinary</td>\n",
       "      <td>Excellent</td>\n",
       "      <td>Poor</td>\n",
       "      <td>Needs Improvement</td>\n",
       "      <td>Good</td>\n",
       "      <td>Poor</td>\n",
       "      <td>Good</td>\n",
       "      <td>Good</td>\n",
       "      <td>Excellent</td>\n",
       "      <td>Needs Improvement</td>\n",
       "      <td>Poor</td>\n",
       "      <td>Needs Improvement</td>\n",
       "      <td>Good</td>\n",
       "      <td>Good</td>\n",
       "    </tr>\n",
       "    <tr>\n",
       "      <th>2</th>\n",
       "      <td>98800003</td>\n",
       "      <td>1</td>\n",
       "      <td>Needs Improvement</td>\n",
       "      <td>Green Car</td>\n",
       "      <td>Needs Improvement</td>\n",
       "      <td>Needs Improvement</td>\n",
       "      <td>Needs Improvement</td>\n",
       "      <td>Needs Improvement</td>\n",
       "      <td>Good</td>\n",
       "      <td>Excellent</td>\n",
       "      <td>Excellent</td>\n",
       "      <td>Excellent</td>\n",
       "      <td>Excellent</td>\n",
       "      <td>Excellent</td>\n",
       "      <td>Good</td>\n",
       "      <td>Excellent</td>\n",
       "      <td>Excellent</td>\n",
       "    </tr>\n",
       "    <tr>\n",
       "      <th>3</th>\n",
       "      <td>98800004</td>\n",
       "      <td>0</td>\n",
       "      <td>Acceptable</td>\n",
       "      <td>Ordinary</td>\n",
       "      <td>Needs Improvement</td>\n",
       "      <td>NaN</td>\n",
       "      <td>Needs Improvement</td>\n",
       "      <td>Acceptable</td>\n",
       "      <td>Needs Improvement</td>\n",
       "      <td>Acceptable</td>\n",
       "      <td>Acceptable</td>\n",
       "      <td>Acceptable</td>\n",
       "      <td>Acceptable</td>\n",
       "      <td>Acceptable</td>\n",
       "      <td>Good</td>\n",
       "      <td>Acceptable</td>\n",
       "      <td>Acceptable</td>\n",
       "    </tr>\n",
       "    <tr>\n",
       "      <th>4</th>\n",
       "      <td>98800005</td>\n",
       "      <td>1</td>\n",
       "      <td>Acceptable</td>\n",
       "      <td>Ordinary</td>\n",
       "      <td>Acceptable</td>\n",
       "      <td>Acceptable</td>\n",
       "      <td>Manageable</td>\n",
       "      <td>Needs Improvement</td>\n",
       "      <td>Good</td>\n",
       "      <td>Excellent</td>\n",
       "      <td>Good</td>\n",
       "      <td>Good</td>\n",
       "      <td>Good</td>\n",
       "      <td>Good</td>\n",
       "      <td>Good</td>\n",
       "      <td>Good</td>\n",
       "      <td>Good</td>\n",
       "    </tr>\n",
       "  </tbody>\n",
       "</table>\n",
       "</div>"
      ],
      "text/plain": [
       "         ID  Overall_Experience       Seat_Comfort Seat_Class  \\\n",
       "0  98800001                   0  Needs Improvement  Green Car   \n",
       "1  98800002                   0               Poor   Ordinary   \n",
       "2  98800003                   1  Needs Improvement  Green Car   \n",
       "3  98800004                   0         Acceptable   Ordinary   \n",
       "4  98800005                   1         Acceptable   Ordinary   \n",
       "\n",
       "  Arrival_Time_Convenient           Catering  Platform_Location  \\\n",
       "0               Excellent          Excellent    Very Convenient   \n",
       "1               Excellent               Poor  Needs Improvement   \n",
       "2       Needs Improvement  Needs Improvement  Needs Improvement   \n",
       "3       Needs Improvement                NaN  Needs Improvement   \n",
       "4              Acceptable         Acceptable         Manageable   \n",
       "\n",
       "  Onboard_Wifi_Service Onboard_Entertainment Online_Support  \\\n",
       "0                 Good     Needs Improvement     Acceptable   \n",
       "1                 Good                  Poor           Good   \n",
       "2    Needs Improvement                  Good      Excellent   \n",
       "3           Acceptable     Needs Improvement     Acceptable   \n",
       "4    Needs Improvement                  Good      Excellent   \n",
       "\n",
       "  Ease_of_Online_Booking    Onboard_Service            Legroom  \\\n",
       "0      Needs Improvement  Needs Improvement         Acceptable   \n",
       "1                   Good          Excellent  Needs Improvement   \n",
       "2              Excellent          Excellent          Excellent   \n",
       "3             Acceptable         Acceptable         Acceptable   \n",
       "4                   Good               Good               Good   \n",
       "\n",
       "    Baggage_Handling    CheckIn_Service        Cleanliness Online_Boarding  \n",
       "0  Needs Improvement               Good  Needs Improvement            Poor  \n",
       "1               Poor  Needs Improvement               Good            Good  \n",
       "2          Excellent               Good          Excellent       Excellent  \n",
       "3         Acceptable               Good         Acceptable      Acceptable  \n",
       "4               Good               Good               Good            Good  "
      ]
     },
     "execution_count": 66,
     "metadata": {},
     "output_type": "execute_result"
    }
   ],
   "source": [
    "shin_exp.head(5)"
   ]
  },
  {
   "attachments": {},
   "cell_type": "markdown",
   "metadata": {},
   "source": [
    "Check the Shape and Informations (about possible missing Values in the Data Set)"
   ]
  },
  {
   "cell_type": "code",
   "execution_count": 67,
   "metadata": {},
   "outputs": [
    {
     "data": {
      "text/plain": [
       "(94379, 17)"
      ]
     },
     "execution_count": 67,
     "metadata": {},
     "output_type": "execute_result"
    }
   ],
   "source": [
    "shin_exp.shape  # first one N° of Rows and the second one N° of Columns"
   ]
  },
  {
   "cell_type": "code",
   "execution_count": 68,
   "metadata": {},
   "outputs": [
    {
     "name": "stdout",
     "output_type": "stream",
     "text": [
      "<class 'pandas.core.frame.DataFrame'>\n",
      "RangeIndex: 94379 entries, 0 to 94378\n",
      "Data columns (total 17 columns):\n",
      " #   Column                   Non-Null Count  Dtype \n",
      "---  ------                   --------------  ----- \n",
      " 0   ID                       94379 non-null  int64 \n",
      " 1   Overall_Experience       94379 non-null  int64 \n",
      " 2   Seat_Comfort             94318 non-null  object\n",
      " 3   Seat_Class               94379 non-null  object\n",
      " 4   Arrival_Time_Convenient  85449 non-null  object\n",
      " 5   Catering                 85638 non-null  object\n",
      " 6   Platform_Location        94349 non-null  object\n",
      " 7   Onboard_Wifi_Service     94349 non-null  object\n",
      " 8   Onboard_Entertainment    94361 non-null  object\n",
      " 9   Online_Support           94288 non-null  object\n",
      " 10  Ease_of_Online_Booking   94306 non-null  object\n",
      " 11  Onboard_Service          86778 non-null  object\n",
      " 12  Legroom                  94289 non-null  object\n",
      " 13  Baggage_Handling         94237 non-null  object\n",
      " 14  CheckIn_Service          94302 non-null  object\n",
      " 15  Cleanliness              94373 non-null  object\n",
      " 16  Online_Boarding          94373 non-null  object\n",
      "dtypes: int64(2), object(15)\n",
      "memory usage: 12.2+ MB\n"
     ]
    }
   ],
   "source": [
    "shin_exp.info()"
   ]
  },
  {
   "attachments": {},
   "cell_type": "markdown",
   "metadata": {},
   "source": [
    "#### All the Columns except for ID and Overall_Experience (which is our Target) HAVE Missing Values\n",
    "#### All the Values are string object that must be modified to numeric one with either one-hot encoding"
   ]
  },
  {
   "cell_type": "code",
   "execution_count": 69,
   "metadata": {},
   "outputs": [
    {
     "data": {
      "text/plain": [
       "0"
      ]
     },
     "execution_count": 69,
     "metadata": {},
     "output_type": "execute_result"
    }
   ],
   "source": [
    "# Let's check for duplicate values in the data\n",
    "shin_exp.duplicated().sum()"
   ]
  },
  {
   "cell_type": "code",
   "execution_count": 70,
   "metadata": {},
   "outputs": [
    {
     "data": {
      "text/plain": [
       "ID                         0.00\n",
       "Overall_Experience         0.00\n",
       "Seat_Comfort               0.06\n",
       "Seat_Class                 0.00\n",
       "Arrival_Time_Convenient    9.46\n",
       "Catering                   9.26\n",
       "Platform_Location          0.03\n",
       "Onboard_Wifi_Service       0.03\n",
       "Onboard_Entertainment      0.02\n",
       "Online_Support             0.10\n",
       "Ease_of_Online_Booking     0.08\n",
       "Onboard_Service            8.05\n",
       "Legroom                    0.10\n",
       "Baggage_Handling           0.15\n",
       "CheckIn_Service            0.08\n",
       "Cleanliness                0.01\n",
       "Online_Boarding            0.01\n",
       "dtype: float64"
      ]
     },
     "execution_count": 70,
     "metadata": {},
     "output_type": "execute_result"
    }
   ],
   "source": [
    "# Let's check for missing values in the data\n",
    "round(shin_exp.isnull().sum() / shin_exp.isnull().count() * 100, 2)"
   ]
  },
  {
   "cell_type": "code",
   "execution_count": 71,
   "metadata": {},
   "outputs": [
    {
     "data": {
      "text/plain": [
       "ID                            0\n",
       "Overall_Experience            0\n",
       "Seat_Comfort                 61\n",
       "Seat_Class                    0\n",
       "Arrival_Time_Convenient    8930\n",
       "Catering                   8741\n",
       "Platform_Location            30\n",
       "Onboard_Wifi_Service         30\n",
       "Onboard_Entertainment        18\n",
       "Online_Support               91\n",
       "Ease_of_Online_Booking       73\n",
       "Onboard_Service            7601\n",
       "Legroom                      90\n",
       "Baggage_Handling            142\n",
       "CheckIn_Service              77\n",
       "Cleanliness                   6\n",
       "Online_Boarding               6\n",
       "dtype: int64"
      ]
     },
     "execution_count": 71,
     "metadata": {},
     "output_type": "execute_result"
    }
   ],
   "source": [
    "shin_exp.isna().sum()\n"
   ]
  },
  {
   "attachments": {},
   "cell_type": "markdown",
   "metadata": {},
   "source": [
    "Every Feature has missing values. The features with moost missing values are:\n",
    "\n",
    "Arrival_Time_Convenient, Catering, Onboard_Service with almost 10% of data missing\n",
    "\n",
    "All the other have around less than 0.1% of missing values --> Hence they can be treated last"
   ]
  },
  {
   "cell_type": "code",
   "execution_count": 72,
   "metadata": {},
   "outputs": [
    {
     "name": "stdout",
     "output_type": "stream",
     "text": [
      "Unique values in Seat_Comfort are :\n",
      "Acceptable           21158\n",
      "Needs Improvement    20946\n",
      "Good                 20595\n",
      "Poor                 15185\n",
      "Excellent            12971\n",
      "Extremely Poor        3463\n",
      "Name: Seat_Comfort, dtype: int64\n",
      "**************************************************\n",
      "Unique values in Seat_Class are :\n",
      "Green Car    47435\n",
      "Ordinary     46944\n",
      "Name: Seat_Class, dtype: int64\n",
      "**************************************************\n",
      "Unique values in Arrival_Time_Convenient are :\n",
      "Good                 19574\n",
      "Excellent            17684\n",
      "Acceptable           15177\n",
      "Needs Improvement    14990\n",
      "Poor                 13692\n",
      "Extremely Poor        4332\n",
      "Name: Arrival_Time_Convenient, dtype: int64\n",
      "**************************************************\n",
      "Unique values in Catering are :\n",
      "Acceptable           18468\n",
      "Needs Improvement    17978\n",
      "Good                 17969\n",
      "Poor                 13858\n",
      "Excellent            13455\n",
      "Extremely Poor        3910\n",
      "Name: Catering, dtype: int64\n",
      "**************************************************\n",
      "Unique values in Platform_Location are :\n",
      "Manageable           24173\n",
      "Convenient           21912\n",
      "Needs Improvement    17832\n",
      "Inconvenient         16449\n",
      "Very Convenient      13981\n",
      "Very Inconvenient        2\n",
      "Name: Platform_Location, dtype: int64\n",
      "**************************************************\n",
      "Unique values in Onboard_Wifi_Service are :\n",
      "Good                 22835\n",
      "Excellent            20968\n",
      "Acceptable           20118\n",
      "Needs Improvement    19596\n",
      "Poor                 10741\n",
      "Extremely Poor          91\n",
      "Name: Onboard_Wifi_Service, dtype: int64\n",
      "**************************************************\n",
      "Unique values in Onboard_Entertainment are :\n",
      "Good                 30446\n",
      "Excellent            21644\n",
      "Acceptable           17560\n",
      "Needs Improvement    13926\n",
      "Poor                  8641\n",
      "Extremely Poor        2144\n",
      "Name: Onboard_Entertainment, dtype: int64\n",
      "**************************************************\n",
      "Unique values in Online_Support are :\n",
      "Good                 30016\n",
      "Excellent            25894\n",
      "Acceptable           15702\n",
      "Needs Improvement    12508\n",
      "Poor                 10167\n",
      "Extremely Poor           1\n",
      "Name: Online_Support, dtype: int64\n",
      "**************************************************\n",
      "Unique values in Ease_of_Online_Booking are :\n",
      "Good                 28909\n",
      "Excellent            24744\n",
      "Acceptable           16390\n",
      "Needs Improvement    14479\n",
      "Poor                  9768\n",
      "Extremely Poor          16\n",
      "Name: Ease_of_Online_Booking, dtype: int64\n",
      "**************************************************\n",
      "Unique values in Onboard_Service are :\n",
      "Good                 27265\n",
      "Excellent            21272\n",
      "Acceptable           18071\n",
      "Needs Improvement    11390\n",
      "Poor                  8776\n",
      "Extremely Poor           4\n",
      "Name: Onboard_Service, dtype: int64\n",
      "**************************************************\n",
      "Unique values in Legroom are :\n",
      "Good                 28870\n",
      "Excellent            24832\n",
      "Acceptable           16384\n",
      "Needs Improvement    15753\n",
      "Poor                  8110\n",
      "Extremely Poor         340\n",
      "Name: Legroom, dtype: int64\n",
      "**************************************************\n",
      "Unique values in Baggage_Handling are :\n",
      "Good                 34944\n",
      "Excellent            26003\n",
      "Acceptable           17767\n",
      "Needs Improvement     9759\n",
      "Poor                  5764\n",
      "Name: Baggage_Handling, dtype: int64\n",
      "**************************************************\n",
      "Unique values in CheckIn_Service are :\n",
      "Good                 26502\n",
      "Acceptable           25803\n",
      "Excellent            19641\n",
      "Needs Improvement    11218\n",
      "Poor                 11137\n",
      "Extremely Poor           1\n",
      "Name: CheckIn_Service, dtype: int64\n",
      "**************************************************\n",
      "Unique values in Cleanliness are :\n",
      "Good                 35427\n",
      "Excellent            26053\n",
      "Acceptable           17449\n",
      "Needs Improvement     9806\n",
      "Poor                  5633\n",
      "Extremely Poor           5\n",
      "Name: Cleanliness, dtype: int64\n",
      "**************************************************\n",
      "Unique values in Online_Boarding are :\n",
      "Good                 25533\n",
      "Acceptable           22475\n",
      "Excellent            21742\n",
      "Needs Improvement    13451\n",
      "Poor                 11160\n",
      "Extremely Poor          12\n",
      "Name: Online_Boarding, dtype: int64\n",
      "**************************************************\n"
     ]
    }
   ],
   "source": [
    "# Printing the % sub categories of each category\n",
    "\n",
    "for i in shin_exp.describe(include=[\"object\"]).columns:\n",
    "    print(\"Unique values in\", i, \"are :\")\n",
    "    print(shin_exp[i].value_counts())\n",
    "    print(\"*\" * 50)"
   ]
  },
  {
   "cell_type": "markdown",
   "metadata": {},
   "source": [
    "## Exploratory Data Analysis --> Later On"
   ]
  },
  {
   "cell_type": "code",
   "execution_count": null,
   "metadata": {},
   "outputs": [],
   "source": []
  },
  {
   "attachments": {},
   "cell_type": "markdown",
   "metadata": {},
   "source": [
    "# Data Preprocessing\n"
   ]
  },
  {
   "attachments": {},
   "cell_type": "markdown",
   "metadata": {},
   "source": [
    "### Separating the independent variables (X) and the dependent variable (Y)\n"
   ]
  },
  {
   "cell_type": "code",
   "execution_count": 73,
   "metadata": {},
   "outputs": [
    {
     "data": {
      "text/plain": [
       "(94379, 17)"
      ]
     },
     "execution_count": 73,
     "metadata": {},
     "output_type": "execute_result"
    }
   ],
   "source": [
    "shin_exp.shape"
   ]
  },
  {
   "attachments": {},
   "cell_type": "markdown",
   "metadata": {},
   "source": [
    "### 14 Categories can be Ordered as 0 to 5 because they go from Extremely poor to Excellent\n",
    "### 1 Category --> Seat_Class has only 2 values uncorrelated\n",
    "### 1 for the ID"
   ]
  },
  {
   "cell_type": "code",
   "execution_count": 74,
   "metadata": {},
   "outputs": [],
   "source": [
    "def Ordinal_encoding(element_i):\n",
    "    mapping =  {'Extremely Poor': 0, 'Poor': 1, 'Needs Improvement': 2, 'Acceptable':3, 'Good':4, 'Excellent':5,\n",
    "                'Very Inconvenient': 0, 'Inconvenient': 1, 'Needs Improvement': 2, 'Manageable':3, 'Convenient':4, 'Very Convenient':5,\n",
    "                'Green Car':1, 'Ordinary':0}\n",
    "\n",
    "\n",
    "\n",
    "    try:\n",
    "        data = mapping[element_i]\n",
    "        return data\n",
    "    except:\n",
    "        return np.NaN"
   ]
  },
  {
   "cell_type": "code",
   "execution_count": 75,
   "metadata": {},
   "outputs": [],
   "source": [
    "X_v2 = shin_exp.copy()"
   ]
  },
  {
   "cell_type": "code",
   "execution_count": 76,
   "metadata": {},
   "outputs": [],
   "source": [
    "almost_all_columns = ['Seat_Comfort', 'Seat_Class', 'Arrival_Time_Convenient', 'Catering',\n",
    "       'Platform_Location', 'Onboard_Wifi_Service', 'Onboard_Entertainment',\n",
    "       'Online_Support', 'Ease_of_Online_Booking', 'Onboard_Service',\n",
    "       'Legroom', 'Baggage_Handling', 'CheckIn_Service', 'Cleanliness',\n",
    "       'Online_Boarding']"
   ]
  },
  {
   "cell_type": "code",
   "execution_count": 77,
   "metadata": {},
   "outputs": [
    {
     "data": {
      "text/html": [
       "<div>\n",
       "<style scoped>\n",
       "    .dataframe tbody tr th:only-of-type {\n",
       "        vertical-align: middle;\n",
       "    }\n",
       "\n",
       "    .dataframe tbody tr th {\n",
       "        vertical-align: top;\n",
       "    }\n",
       "\n",
       "    .dataframe thead th {\n",
       "        text-align: right;\n",
       "    }\n",
       "</style>\n",
       "<table border=\"1\" class=\"dataframe\">\n",
       "  <thead>\n",
       "    <tr style=\"text-align: right;\">\n",
       "      <th></th>\n",
       "      <th>ID</th>\n",
       "      <th>Overall_Experience</th>\n",
       "      <th>Seat_Comfort</th>\n",
       "      <th>Seat_Class</th>\n",
       "      <th>Arrival_Time_Convenient</th>\n",
       "      <th>Catering</th>\n",
       "      <th>Platform_Location</th>\n",
       "      <th>Onboard_Wifi_Service</th>\n",
       "      <th>Onboard_Entertainment</th>\n",
       "      <th>Online_Support</th>\n",
       "      <th>Ease_of_Online_Booking</th>\n",
       "      <th>Onboard_Service</th>\n",
       "      <th>Legroom</th>\n",
       "      <th>Baggage_Handling</th>\n",
       "      <th>CheckIn_Service</th>\n",
       "      <th>Cleanliness</th>\n",
       "      <th>Online_Boarding</th>\n",
       "    </tr>\n",
       "  </thead>\n",
       "  <tbody>\n",
       "    <tr>\n",
       "      <th>0</th>\n",
       "      <td>98800001</td>\n",
       "      <td>0</td>\n",
       "      <td>2.0</td>\n",
       "      <td>1</td>\n",
       "      <td>5.0</td>\n",
       "      <td>5.0</td>\n",
       "      <td>5.0</td>\n",
       "      <td>4.0</td>\n",
       "      <td>2.0</td>\n",
       "      <td>3.0</td>\n",
       "      <td>2.0</td>\n",
       "      <td>2.0</td>\n",
       "      <td>3.0</td>\n",
       "      <td>2.0</td>\n",
       "      <td>4.0</td>\n",
       "      <td>2.0</td>\n",
       "      <td>1.0</td>\n",
       "    </tr>\n",
       "  </tbody>\n",
       "</table>\n",
       "</div>"
      ],
      "text/plain": [
       "         ID  Overall_Experience  Seat_Comfort  Seat_Class  \\\n",
       "0  98800001                   0           2.0           1   \n",
       "\n",
       "   Arrival_Time_Convenient  Catering  Platform_Location  Onboard_Wifi_Service  \\\n",
       "0                      5.0       5.0                5.0                   4.0   \n",
       "\n",
       "   Onboard_Entertainment  Online_Support  Ease_of_Online_Booking  \\\n",
       "0                    2.0             3.0                     2.0   \n",
       "\n",
       "   Onboard_Service  Legroom  Baggage_Handling  CheckIn_Service  Cleanliness  \\\n",
       "0              2.0      3.0               2.0              4.0          2.0   \n",
       "\n",
       "   Online_Boarding  \n",
       "0              1.0  "
      ]
     },
     "execution_count": 77,
     "metadata": {},
     "output_type": "execute_result"
    }
   ],
   "source": [
    "for column_i in almost_all_columns:\n",
    "    X_v2[column_i] = X_v2[column_i].apply(Ordinal_encoding)\n",
    "\n",
    "X_v2.head(1)"
   ]
  },
  {
   "cell_type": "code",
   "execution_count": 80,
   "metadata": {},
   "outputs": [
    {
     "data": {
      "text/html": [
       "<div>\n",
       "<style scoped>\n",
       "    .dataframe tbody tr th:only-of-type {\n",
       "        vertical-align: middle;\n",
       "    }\n",
       "\n",
       "    .dataframe tbody tr th {\n",
       "        vertical-align: top;\n",
       "    }\n",
       "\n",
       "    .dataframe thead th {\n",
       "        text-align: right;\n",
       "    }\n",
       "</style>\n",
       "<table border=\"1\" class=\"dataframe\">\n",
       "  <thead>\n",
       "    <tr style=\"text-align: right;\">\n",
       "      <th></th>\n",
       "      <th>ID</th>\n",
       "      <th>Overall_Experience</th>\n",
       "      <th>Seat_Comfort</th>\n",
       "      <th>Seat_Class</th>\n",
       "      <th>Arrival_Time_Convenient</th>\n",
       "      <th>Catering</th>\n",
       "      <th>Platform_Location</th>\n",
       "      <th>Onboard_Wifi_Service</th>\n",
       "      <th>Onboard_Entertainment</th>\n",
       "      <th>Online_Support</th>\n",
       "      <th>Ease_of_Online_Booking</th>\n",
       "      <th>Onboard_Service</th>\n",
       "      <th>Legroom</th>\n",
       "      <th>Baggage_Handling</th>\n",
       "      <th>CheckIn_Service</th>\n",
       "      <th>Cleanliness</th>\n",
       "      <th>Online_Boarding</th>\n",
       "    </tr>\n",
       "  </thead>\n",
       "  <tbody>\n",
       "    <tr>\n",
       "      <th>0</th>\n",
       "      <td>98800001</td>\n",
       "      <td>0</td>\n",
       "      <td>Needs Improvement</td>\n",
       "      <td>Green Car</td>\n",
       "      <td>Excellent</td>\n",
       "      <td>Excellent</td>\n",
       "      <td>Very Convenient</td>\n",
       "      <td>Good</td>\n",
       "      <td>Needs Improvement</td>\n",
       "      <td>Acceptable</td>\n",
       "      <td>Needs Improvement</td>\n",
       "      <td>Needs Improvement</td>\n",
       "      <td>Acceptable</td>\n",
       "      <td>Needs Improvement</td>\n",
       "      <td>Good</td>\n",
       "      <td>Needs Improvement</td>\n",
       "      <td>Poor</td>\n",
       "    </tr>\n",
       "  </tbody>\n",
       "</table>\n",
       "</div>"
      ],
      "text/plain": [
       "         ID  Overall_Experience       Seat_Comfort Seat_Class  \\\n",
       "0  98800001                   0  Needs Improvement  Green Car   \n",
       "\n",
       "  Arrival_Time_Convenient   Catering Platform_Location Onboard_Wifi_Service  \\\n",
       "0               Excellent  Excellent   Very Convenient                 Good   \n",
       "\n",
       "  Onboard_Entertainment Online_Support Ease_of_Online_Booking  \\\n",
       "0     Needs Improvement     Acceptable      Needs Improvement   \n",
       "\n",
       "     Onboard_Service     Legroom   Baggage_Handling CheckIn_Service  \\\n",
       "0  Needs Improvement  Acceptable  Needs Improvement            Good   \n",
       "\n",
       "         Cleanliness Online_Boarding  \n",
       "0  Needs Improvement            Poor  "
      ]
     },
     "execution_count": 80,
     "metadata": {},
     "output_type": "execute_result"
    }
   ],
   "source": [
    "shin_exp.head(1)"
   ]
  },
  {
   "cell_type": "code",
   "execution_count": 81,
   "metadata": {},
   "outputs": [
    {
     "data": {
      "text/plain": [
       "ID                         True\n",
       "Overall_Experience         True\n",
       "Seat_Comfort               True\n",
       "Seat_Class                 True\n",
       "Arrival_Time_Convenient    True\n",
       "Catering                   True\n",
       "Platform_Location          True\n",
       "Onboard_Wifi_Service       True\n",
       "Onboard_Entertainment      True\n",
       "Online_Support             True\n",
       "Ease_of_Online_Booking     True\n",
       "Onboard_Service            True\n",
       "Legroom                    True\n",
       "Baggage_Handling           True\n",
       "CheckIn_Service            True\n",
       "Cleanliness                True\n",
       "Online_Boarding            True\n",
       "dtype: bool"
      ]
     },
     "execution_count": 81,
     "metadata": {},
     "output_type": "execute_result"
    }
   ],
   "source": [
    "X_v2.isna().sum() == shin_exp.isna().sum()\n"
   ]
  },
  {
   "cell_type": "code",
   "execution_count": null,
   "metadata": {},
   "outputs": [],
   "source": []
  },
  {
   "attachments": {},
   "cell_type": "markdown",
   "metadata": {},
   "source": [
    "# HERE START The IMPUTATION"
   ]
  },
  {
   "cell_type": "code",
   "execution_count": 82,
   "metadata": {},
   "outputs": [
    {
     "data": {
      "text/plain": [
       "ID                            0\n",
       "Overall_Experience            0\n",
       "Seat_Comfort                 61\n",
       "Seat_Class                    0\n",
       "Arrival_Time_Convenient    8930\n",
       "Catering                   8741\n",
       "Platform_Location            30\n",
       "Onboard_Wifi_Service         30\n",
       "Onboard_Entertainment        18\n",
       "Online_Support               91\n",
       "Ease_of_Online_Booking       73\n",
       "Onboard_Service            7601\n",
       "Legroom                      90\n",
       "Baggage_Handling            142\n",
       "CheckIn_Service              77\n",
       "Cleanliness                   6\n",
       "Online_Boarding               6\n",
       "dtype: int64"
      ]
     },
     "execution_count": 82,
     "metadata": {},
     "output_type": "execute_result"
    }
   ],
   "source": [
    "X_v2.isna().sum()"
   ]
  },
  {
   "attachments": {},
   "cell_type": "markdown",
   "metadata": {},
   "source": [
    "# IMPUTATION Option 1 --> AFTER THE MEAN WE SHOULD TRY IN THE NEXT ITERATION KNN OR LINEAR REGRESSION (But for now this is good)"
   ]
  },
  {
   "cell_type": "code",
   "execution_count": 83,
   "metadata": {},
   "outputs": [
    {
     "name": "stdout",
     "output_type": "stream",
     "text": [
      "ID                         0\n",
      "Overall_Experience         0\n",
      "Seat_Comfort               0\n",
      "Seat_Class                 0\n",
      "Arrival_Time_Convenient    0\n",
      "Catering                   0\n",
      "Platform_Location          0\n",
      "Onboard_Wifi_Service       0\n",
      "Onboard_Entertainment      0\n",
      "Online_Support             0\n",
      "Ease_of_Online_Booking     0\n",
      "Onboard_Service            0\n",
      "Legroom                    0\n",
      "Baggage_Handling           0\n",
      "CheckIn_Service            0\n",
      "Cleanliness                0\n",
      "Online_Boarding            0\n",
      "dtype: int64\n",
      "------------------------------\n"
     ]
    }
   ],
   "source": [
    "# Columns to impute\n",
    "reqd_col_for_impute = ['Seat_Comfort',  'Arrival_Time_Convenient', 'Catering','Platform_Location', 'Onboard_Wifi_Service', 'Onboard_Entertainment',\n",
    "       'Online_Support', 'Ease_of_Online_Booking', 'Onboard_Service',\n",
    "       'Legroom', 'Baggage_Handling', 'CheckIn_Service', 'Cleanliness',\n",
    "       'Online_Boarding']\n",
    "\n",
    "# Simple Imputer with Mode\n",
    "imputer = SimpleImputer(strategy=\"most_frequent\")\n",
    "\n",
    "# Fit and transform the train data\n",
    "X_v2[reqd_col_for_impute] = imputer.fit_transform(X_v2[reqd_col_for_impute])\n",
    "\n",
    "\n",
    "# Checking that no column has missing values in train or test sets\n",
    "print(X_v2.isna().sum())\n",
    "print(\"-\" * 30)\n",
    "#print(X_test.isna().sum())"
   ]
  },
  {
   "cell_type": "code",
   "execution_count": null,
   "metadata": {},
   "outputs": [],
   "source": []
  },
  {
   "attachments": {},
   "cell_type": "markdown",
   "metadata": {},
   "source": [
    "# Till here the Work can be assumed Correct (you can Check Later On) ---> "
   ]
  },
  {
   "cell_type": "markdown",
   "metadata": {},
   "source": [
    "# From this point START THE EFFECTIVE PREDICTION"
   ]
  },
  {
   "cell_type": "markdown",
   "metadata": {},
   "source": [
    "# I save here in a SUBSEQUENT Excel the result of my work so it can be used immediately without taking all these code"
   ]
  },
  {
   "cell_type": "code",
   "execution_count": 85,
   "metadata": {},
   "outputs": [],
   "source": [
    "X_v2.to_csv('Survey_Shin_cleaned_dataset.csv')"
   ]
  },
  {
   "cell_type": "code",
   "execution_count": null,
   "metadata": {},
   "outputs": [],
   "source": []
  }
 ],
 "metadata": {
  "kernelspec": {
   "display_name": "Python 3 (ipykernel)",
   "language": "python",
   "name": "python3"
  },
  "language_info": {
   "codemirror_mode": {
    "name": "ipython",
    "version": 3
   },
   "file_extension": ".py",
   "mimetype": "text/x-python",
   "name": "python",
   "nbconvert_exporter": "python",
   "pygments_lexer": "ipython3",
   "version": "3.9.13"
  }
 },
 "nbformat": 4,
 "nbformat_minor": 2
}
