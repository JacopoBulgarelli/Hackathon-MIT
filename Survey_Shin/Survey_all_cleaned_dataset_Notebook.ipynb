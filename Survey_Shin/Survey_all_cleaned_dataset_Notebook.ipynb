{
 "cells": [
  {
   "attachments": {},
   "cell_type": "markdown",
   "metadata": {},
   "source": [
    "# Here there is Only the Cleaning of the Model"
   ]
  },
  {
   "cell_type": "code",
   "execution_count": 1,
   "metadata": {},
   "outputs": [],
   "source": [
    "# Importing the basic libraries we will require for the project\n",
    "\n",
    "# Libraries to help with reading and manipulating data\n",
    "import pandas as pd\n",
    "import numpy as np\n",
    "\n",
    "# Libaries to help with data visualization\n",
    "import matplotlib.pyplot as plt\n",
    "import seaborn as sns\n",
    "sns.set()\n",
    "\n",
    "\n",
    "# Code to ignore warnings from function usage\n",
    "import warnings;\n",
    "import numpy as np\n",
    "warnings.filterwarnings('ignore')\n",
    "\n",
    "from sklearn.impute import SimpleImputer"
   ]
  },
  {
   "attachments": {},
   "cell_type": "markdown",
   "metadata": {},
   "source": [
    "Load and View the Data Set"
   ]
  },
  {
   "cell_type": "code",
   "execution_count": null,
   "metadata": {},
   "outputs": [],
   "source": []
  },
  {
   "cell_type": "code",
   "execution_count": 3,
   "metadata": {},
   "outputs": [],
   "source": [
    "def Ordinal_encoding(element_i):\n",
    "    mapping =  {'Extremely Poor': 0, 'Poor': 1, 'Needs Improvement': 2, 'Acceptable':3, 'Good':4, 'Excellent':5,\n",
    "                'Very Inconvenient': 0, 'Inconvenient': 1, 'Needs Improvement': 2, 'Manageable':3, 'Convenient':4, 'Very Convenient':5,\n",
    "                'Green Car':1, 'Ordinary':0}\n",
    "\n",
    "    try:\n",
    "        data = mapping[element_i]\n",
    "        return data\n",
    "    except:\n",
    "        return np.NaN\n",
    "    \n",
    "def cleaning_Travel(csv_name):\n",
    "    shin_exp = pd.read_csv(csv_name)\n",
    "    almost_all_columns = ['Seat_Comfort', 'Seat_Class', 'Arrival_Time_Convenient', 'Catering',\n",
    "       'Platform_Location', 'Onboard_Wifi_Service', 'Onboard_Entertainment',\n",
    "       'Online_Support', 'Ease_of_Online_Booking', 'Onboard_Service',\n",
    "       'Legroom', 'Baggage_Handling', 'CheckIn_Service', 'Cleanliness',\n",
    "       'Online_Boarding']\n",
    "\n",
    "    for column_i in almost_all_columns:\n",
    "        shin_exp[column_i] = shin_exp[column_i].apply(Ordinal_encoding)\n",
    "\n",
    "    #print(shin_exp.isna().sum())\n",
    "\n",
    "    return shin_exp\n",
    "\n",
    "\n",
    "def imputing_Travel(csv_name):\n",
    "    encoded_df = cleaning_Travel(csv_name)\n",
    "    reqd_col_for_impute = ['Seat_Comfort',  'Arrival_Time_Convenient', 'Catering','Platform_Location', 'Onboard_Wifi_Service', 'Onboard_Entertainment',\n",
    "       'Online_Support', 'Ease_of_Online_Booking', 'Onboard_Service',\n",
    "       'Legroom', 'Baggage_Handling', 'CheckIn_Service', 'Cleanliness',\n",
    "       'Online_Boarding']\n",
    "    \n",
    "    imputer = SimpleImputer(strategy=\"most_frequent\")\n",
    "    encoded_df[reqd_col_for_impute] = imputer.fit_transform(encoded_df[reqd_col_for_impute])\n",
    "\n",
    "    print(encoded_df.isna().sum())\n",
    "    return encoded_df\n"
   ]
  },
  {
   "cell_type": "code",
   "execution_count": 6,
   "metadata": {},
   "outputs": [],
   "source": [
    "csv_name = 'Surveydata_train.csv'"
   ]
  },
  {
   "cell_type": "code",
   "execution_count": 7,
   "metadata": {},
   "outputs": [
    {
     "name": "stdout",
     "output_type": "stream",
     "text": [
      "ID                         True\n",
      "Overall_Experience         True\n",
      "Seat_Comfort               True\n",
      "Seat_Class                 True\n",
      "Arrival_Time_Convenient    True\n",
      "Catering                   True\n",
      "Platform_Location          True\n",
      "Onboard_Wifi_Service       True\n",
      "Onboard_Entertainment      True\n",
      "Online_Support             True\n",
      "Ease_of_Online_Booking     True\n",
      "Onboard_Service            True\n",
      "Legroom                    True\n",
      "Baggage_Handling           True\n",
      "CheckIn_Service            True\n",
      "Cleanliness                True\n",
      "Online_Boarding            True\n",
      "dtype: bool\n",
      "ID                         0\n",
      "Overall_Experience         0\n",
      "Seat_Comfort               0\n",
      "Seat_Class                 0\n",
      "Arrival_Time_Convenient    0\n",
      "Catering                   0\n",
      "Platform_Location          0\n",
      "Onboard_Wifi_Service       0\n",
      "Onboard_Entertainment      0\n",
      "Online_Support             0\n",
      "Ease_of_Online_Booking     0\n",
      "Onboard_Service            0\n",
      "Legroom                    0\n",
      "Baggage_Handling           0\n",
      "CheckIn_Service            0\n",
      "Cleanliness                0\n",
      "Online_Boarding            0\n",
      "dtype: int64\n"
     ]
    }
   ],
   "source": [
    "starting_df = pd.read_csv(csv_name)\n",
    "\n",
    "encoded_df = cleaning_Travel(csv_name)\n",
    "\n",
    "print(encoded_df.isna().sum() == starting_df.isna().sum()\n",
    ")\n",
    "imputed_df = imputing_Travel(csv_name)\n"
   ]
  },
  {
   "cell_type": "code",
   "execution_count": 9,
   "metadata": {},
   "outputs": [
    {
     "data": {
      "text/html": [
       "<div>\n",
       "<style scoped>\n",
       "    .dataframe tbody tr th:only-of-type {\n",
       "        vertical-align: middle;\n",
       "    }\n",
       "\n",
       "    .dataframe tbody tr th {\n",
       "        vertical-align: top;\n",
       "    }\n",
       "\n",
       "    .dataframe thead th {\n",
       "        text-align: right;\n",
       "    }\n",
       "</style>\n",
       "<table border=\"1\" class=\"dataframe\">\n",
       "  <thead>\n",
       "    <tr style=\"text-align: right;\">\n",
       "      <th></th>\n",
       "      <th>ID</th>\n",
       "      <th>Overall_Experience</th>\n",
       "      <th>Seat_Comfort</th>\n",
       "      <th>Seat_Class</th>\n",
       "      <th>Arrival_Time_Convenient</th>\n",
       "      <th>Catering</th>\n",
       "      <th>Platform_Location</th>\n",
       "      <th>Onboard_Wifi_Service</th>\n",
       "      <th>Onboard_Entertainment</th>\n",
       "      <th>Online_Support</th>\n",
       "      <th>Ease_of_Online_Booking</th>\n",
       "      <th>Onboard_Service</th>\n",
       "      <th>Legroom</th>\n",
       "      <th>Baggage_Handling</th>\n",
       "      <th>CheckIn_Service</th>\n",
       "      <th>Cleanliness</th>\n",
       "      <th>Online_Boarding</th>\n",
       "    </tr>\n",
       "  </thead>\n",
       "  <tbody>\n",
       "    <tr>\n",
       "      <th>0</th>\n",
       "      <td>98800001</td>\n",
       "      <td>0</td>\n",
       "      <td>2.0</td>\n",
       "      <td>1</td>\n",
       "      <td>5.0</td>\n",
       "      <td>5.0</td>\n",
       "      <td>5.0</td>\n",
       "      <td>4.0</td>\n",
       "      <td>2.0</td>\n",
       "      <td>3.0</td>\n",
       "      <td>2.0</td>\n",
       "      <td>2.0</td>\n",
       "      <td>3.0</td>\n",
       "      <td>2.0</td>\n",
       "      <td>4.0</td>\n",
       "      <td>2.0</td>\n",
       "      <td>1.0</td>\n",
       "    </tr>\n",
       "    <tr>\n",
       "      <th>1</th>\n",
       "      <td>98800002</td>\n",
       "      <td>0</td>\n",
       "      <td>1.0</td>\n",
       "      <td>0</td>\n",
       "      <td>5.0</td>\n",
       "      <td>1.0</td>\n",
       "      <td>2.0</td>\n",
       "      <td>4.0</td>\n",
       "      <td>1.0</td>\n",
       "      <td>4.0</td>\n",
       "      <td>4.0</td>\n",
       "      <td>5.0</td>\n",
       "      <td>2.0</td>\n",
       "      <td>1.0</td>\n",
       "      <td>2.0</td>\n",
       "      <td>4.0</td>\n",
       "      <td>4.0</td>\n",
       "    </tr>\n",
       "    <tr>\n",
       "      <th>2</th>\n",
       "      <td>98800003</td>\n",
       "      <td>1</td>\n",
       "      <td>2.0</td>\n",
       "      <td>1</td>\n",
       "      <td>2.0</td>\n",
       "      <td>2.0</td>\n",
       "      <td>2.0</td>\n",
       "      <td>2.0</td>\n",
       "      <td>4.0</td>\n",
       "      <td>5.0</td>\n",
       "      <td>5.0</td>\n",
       "      <td>5.0</td>\n",
       "      <td>5.0</td>\n",
       "      <td>5.0</td>\n",
       "      <td>4.0</td>\n",
       "      <td>5.0</td>\n",
       "      <td>5.0</td>\n",
       "    </tr>\n",
       "    <tr>\n",
       "      <th>3</th>\n",
       "      <td>98800004</td>\n",
       "      <td>0</td>\n",
       "      <td>3.0</td>\n",
       "      <td>0</td>\n",
       "      <td>2.0</td>\n",
       "      <td>3.0</td>\n",
       "      <td>2.0</td>\n",
       "      <td>3.0</td>\n",
       "      <td>2.0</td>\n",
       "      <td>3.0</td>\n",
       "      <td>3.0</td>\n",
       "      <td>3.0</td>\n",
       "      <td>3.0</td>\n",
       "      <td>3.0</td>\n",
       "      <td>4.0</td>\n",
       "      <td>3.0</td>\n",
       "      <td>3.0</td>\n",
       "    </tr>\n",
       "    <tr>\n",
       "      <th>4</th>\n",
       "      <td>98800005</td>\n",
       "      <td>1</td>\n",
       "      <td>3.0</td>\n",
       "      <td>0</td>\n",
       "      <td>3.0</td>\n",
       "      <td>3.0</td>\n",
       "      <td>3.0</td>\n",
       "      <td>2.0</td>\n",
       "      <td>4.0</td>\n",
       "      <td>5.0</td>\n",
       "      <td>4.0</td>\n",
       "      <td>4.0</td>\n",
       "      <td>4.0</td>\n",
       "      <td>4.0</td>\n",
       "      <td>4.0</td>\n",
       "      <td>4.0</td>\n",
       "      <td>4.0</td>\n",
       "    </tr>\n",
       "  </tbody>\n",
       "</table>\n",
       "</div>"
      ],
      "text/plain": [
       "         ID  Overall_Experience  Seat_Comfort  Seat_Class  \\\n",
       "0  98800001                   0           2.0           1   \n",
       "1  98800002                   0           1.0           0   \n",
       "2  98800003                   1           2.0           1   \n",
       "3  98800004                   0           3.0           0   \n",
       "4  98800005                   1           3.0           0   \n",
       "\n",
       "   Arrival_Time_Convenient  Catering  Platform_Location  Onboard_Wifi_Service  \\\n",
       "0                      5.0       5.0                5.0                   4.0   \n",
       "1                      5.0       1.0                2.0                   4.0   \n",
       "2                      2.0       2.0                2.0                   2.0   \n",
       "3                      2.0       3.0                2.0                   3.0   \n",
       "4                      3.0       3.0                3.0                   2.0   \n",
       "\n",
       "   Onboard_Entertainment  Online_Support  Ease_of_Online_Booking  \\\n",
       "0                    2.0             3.0                     2.0   \n",
       "1                    1.0             4.0                     4.0   \n",
       "2                    4.0             5.0                     5.0   \n",
       "3                    2.0             3.0                     3.0   \n",
       "4                    4.0             5.0                     4.0   \n",
       "\n",
       "   Onboard_Service  Legroom  Baggage_Handling  CheckIn_Service  Cleanliness  \\\n",
       "0              2.0      3.0               2.0              4.0          2.0   \n",
       "1              5.0      2.0               1.0              2.0          4.0   \n",
       "2              5.0      5.0               5.0              4.0          5.0   \n",
       "3              3.0      3.0               3.0              4.0          3.0   \n",
       "4              4.0      4.0               4.0              4.0          4.0   \n",
       "\n",
       "   Online_Boarding  \n",
       "0              1.0  \n",
       "1              4.0  \n",
       "2              5.0  \n",
       "3              3.0  \n",
       "4              4.0  "
      ]
     },
     "execution_count": 9,
     "metadata": {},
     "output_type": "execute_result"
    }
   ],
   "source": [
    "imputed_df.head()"
   ]
  },
  {
   "cell_type": "code",
   "execution_count": 10,
   "metadata": {},
   "outputs": [
    {
     "data": {
      "text/plain": [
       "'Surveydata_train.csv'"
      ]
     },
     "execution_count": 10,
     "metadata": {},
     "output_type": "execute_result"
    }
   ],
   "source": [
    "csv_name"
   ]
  },
  {
   "cell_type": "code",
   "execution_count": 11,
   "metadata": {},
   "outputs": [],
   "source": [
    "imputed_df.to_csv('Surveydata_train_clean-imputed.csv')"
   ]
  },
  {
   "cell_type": "code",
   "execution_count": null,
   "metadata": {},
   "outputs": [],
   "source": []
  },
  {
   "cell_type": "code",
   "execution_count": 12,
   "metadata": {},
   "outputs": [],
   "source": [
    "csv_name2 = 'Surveydata_test.csv'"
   ]
  },
  {
   "cell_type": "code",
   "execution_count": 13,
   "metadata": {},
   "outputs": [
    {
     "name": "stdout",
     "output_type": "stream",
     "text": [
      "ID                         0\n",
      "Seat_Comfort               0\n",
      "Seat_Class                 0\n",
      "Arrival_Time_Convenient    0\n",
      "Catering                   0\n",
      "Platform_Location          0\n",
      "Onboard_Wifi_Service       0\n",
      "Onboard_Entertainment      0\n",
      "Online_Support             0\n",
      "Ease_of_Online_Booking     0\n",
      "Onboard_Service            0\n",
      "Legroom                    0\n",
      "Baggage_Handling           0\n",
      "CheckIn_Service            0\n",
      "Cleanliness                0\n",
      "Online_Boarding            0\n",
      "dtype: int64\n"
     ]
    }
   ],
   "source": [
    "starting_df2 = pd.read_csv(csv_name2)\n",
    "\n",
    "encoded_df2 = cleaning_Travel(csv_name2)\n",
    "\n",
    "encoded_df2.isna().sum() == starting_df2.isna().sum()\n",
    "\n",
    "imputed_df2 = imputing_Travel(csv_name2)\n"
   ]
  },
  {
   "cell_type": "code",
   "execution_count": 14,
   "metadata": {},
   "outputs": [],
   "source": [
    "imputed_df2.to_csv('Surveydata_test_clean-imputed.csv')"
   ]
  },
  {
   "cell_type": "code",
   "execution_count": null,
   "metadata": {},
   "outputs": [],
   "source": []
  }
 ],
 "metadata": {
  "kernelspec": {
   "display_name": "Python 3 (ipykernel)",
   "language": "python",
   "name": "python3"
  },
  "language_info": {
   "codemirror_mode": {
    "name": "ipython",
    "version": 3
   },
   "file_extension": ".py",
   "mimetype": "text/x-python",
   "name": "python",
   "nbconvert_exporter": "python",
   "pygments_lexer": "ipython3",
   "version": "3.9.13"
  }
 },
 "nbformat": 4,
 "nbformat_minor": 2
}
